{
  "cells": [
    {
      "cell_type": "markdown",
      "metadata": {
        "id": "JUGj2nLirz-v"
      },
      "source": [
        " # Practice  Soft SVM.\n",
        " ----\n",
        "  \n",
        "  University : UTEC \\\\\n",
        "  Course       : Machine Learning \\\\\n",
        "  Professor    : Cristian López Del Alamo \\\\\n",
        "  Topic        : Soft SVM \\\\\n",
        "  Termina      : 4:45\n",
        "   \n",
        "\n",
        " ----\n",
        "\n",
        "Write the names and surnames of the members and the percentage of participation of each one in the development of the practice:\n",
        " - Integrante 1: (%)\n",
        " - Integrante 2: (%)\n",
        " - Integrante 3: (%)\n",
        " - Integrante 4: (%)\n",
        "\n",
        "\n",
        " ----\n",
        "\n",
        "\n",
        "  \n",
        "\n",
        "\n"
      ]
    },
    {
      "cell_type": "code",
      "execution_count": null,
      "metadata": {
        "colab": {
          "base_uri": "https://localhost:8080/"
        },
        "id": "qgBNS0vz9yIW",
        "outputId": "9b7df2e6-ed9a-4421-89dd-3d020baa5a58"
      },
      "outputs": [
        {
          "name": "stdout",
          "output_type": "stream",
          "text": [
            "Collecting pywavelets\n",
            "  Downloading pywavelets-1.7.0-cp310-cp310-manylinux_2_17_x86_64.manylinux2014_x86_64.whl.metadata (9.0 kB)\n",
            "Requirement already satisfied: numpy<3,>=1.23 in /usr/local/lib/python3.10/dist-packages (from pywavelets) (1.26.4)\n",
            "Downloading pywavelets-1.7.0-cp310-cp310-manylinux_2_17_x86_64.manylinux2014_x86_64.whl (4.5 MB)\n",
            "\u001b[2K   \u001b[90m━━━━━━━━━━━━━━━━━━━━━━━━━━━━━━━━━━━━━━━━\u001b[0m \u001b[32m4.5/4.5 MB\u001b[0m \u001b[31m29.8 MB/s\u001b[0m eta \u001b[36m0:00:00\u001b[0m\n",
            "\u001b[?25hInstalling collected packages: pywavelets\n",
            "Successfully installed pywavelets-1.7.0\n"
          ]
        }
      ],
      "source": [
        "# Loading Libraries\n",
        "!pip install pywavelets\n",
        "import numpy as np\n",
        "import math\n",
        "import pandas as pd\n",
        "import random\n",
        "import matplotlib.pyplot as plt\n",
        "import cvxopt\n",
        "import seaborn as sns\n",
        "import itertools\n",
        "import pywt\n",
        "import os\n",
        "from sklearn.metrics import confusion_matrix\n",
        "import zipfile\n",
        "from skimage import io, color"
      ]
    },
    {
      "cell_type": "markdown",
      "metadata": {
        "id": "KBLjkIM3Ylev"
      },
      "source": [
        "## Normalization"
      ]
    },
    {
      "cell_type": "code",
      "execution_count": null,
      "metadata": {
        "id": "0wPdjfu8-IGV"
      },
      "outputs": [],
      "source": [
        "def normalizacion(data):\n",
        "  new_data = (data - np.min(data)) / (np.max(data) - np.min(data))\n",
        "  return new_data\n"
      ]
    },
    {
      "cell_type": "markdown",
      "metadata": {
        "id": "FbEqB9ZOYifu"
      },
      "source": [
        "## 1. Feature Vector\n",
        "\n",
        "A wavelet is a more efficient method than Fourier transforms for approximating a non-periodic function. Since an image can be seen as a two-dimensional function in a 3D space, we can approximate it using wavelets. In this case, we use the Hard Wavelet. The goal is to obtain a characteristic vector that represents each image\n",
        "\n",
        "[library:](https://pywavelets.readthedocs.io/en/latest/index.html)\n",
        "----\n",
        "Parámetros de la Función **haar**\n",
        "- f: Image File Name\n",
        "- n: Number of slider in the image"
      ]
    },
    {
      "cell_type": "code",
      "execution_count": null,
      "metadata": {
        "id": "5mKMHnw3HJek"
      },
      "outputs": [],
      "source": [
        "# Wavelet function for extracting image characteristics. This function returns a vector with image characteristics\n",
        "def haar(f, n):\n",
        "  imagen = io.imread(f)\n",
        "  for i in range(n):\n",
        "    imagen, (LH, HL, HH) = pywt.dwt2(imagen, 'haar')\n",
        "  gfg = np.array(imagen)\n",
        "  return gfg.flatten()"
      ]
    },
    {
      "cell_type": "markdown",
      "metadata": {
        "id": "KFPIA4MqrYka"
      },
      "source": [
        "### Encode Function\n",
        "Encode is a function that encodes images into feature vectors using wavelets to extract relevant information from each image. Encode takes the path where the images are located, encodes them, and returns a matrix where the ith element of the matrix is the feature vector of image i."
      ]
    },
    {
      "cell_type": "code",
      "execution_count": null,
      "metadata": {
        "id": "BzY81s98C70o"
      },
      "outputs": [],
      "source": [
        "# This function loads all images in the specified path and returns a vector containing the feature vectors of these images. In the example, we use three splits.\n",
        "def encode(path, cuts):\n",
        "  encodings = []\n",
        "\n",
        "  print(\"Ingresó : \")\n",
        "  print(path)\n",
        "  i=0\n",
        "  for filename in os.listdir(path):\n",
        "      image_file = os.path.join(path, filename)\n",
        "      print(image_file)\n",
        "      if os.path.isfile(image_file):\n",
        "          encodings.append(haar(image_file, cuts))\n",
        "      i=i+1\n",
        "      if i==20:\n",
        "        return encodings\n",
        "  return encodings"
      ]
    },
    {
      "cell_type": "markdown",
      "metadata": {
        "id": "tm-Xm5NPS-qT"
      },
      "source": [
        "## Loading the data and extracting features using Hard Wavelet\n",
        "\n",
        "### get_data Function\n",
        "This function takes as input the paths where images of happy and disgust people are located, encodes them, and stores them in matrices. One matrix contains rows with features of happy people and another matrix contains features of sad people; both are combined into the same matrix. The rows of the matrix are randomized to then create the database that will train our soft SVM"
      ]
    },
    {
      "cell_type": "code",
      "execution_count": null,
      "metadata": {
        "id": "32eJou8tjAlL"
      },
      "outputs": [],
      "source": [
        "\n",
        "def get_data(emotion_1, emotion_2, cuts):\n",
        "  data  =  np.array(encode(emotion_1,cuts))\n",
        "  data  = np.insert(data, 0, 1, axis=1)\n",
        "  temp =  np.array(encode(emotion_2,cuts))\n",
        "  temp = np.insert(temp, 0, -1, axis=1)\n",
        "  data = np.concatenate((data, temp), axis=0)\n",
        "  for i in range(10):\n",
        "    np.random.shuffle(data)\n",
        "  y = data[:,0]\n",
        "  x = data[:, 1:]\n",
        "  return x, y"
      ]
    },
    {
      "cell_type": "markdown",
      "metadata": {
        "id": "_oPw5bMztgsD"
      },
      "source": [
        "# Load train and test data\n",
        "\n",
        "We mount the drive in Colab, get the path where our images are located, and load the test and training data\n",
        "\n",
        "[Download DataSet](https://drive.google.com/drive/folders/1TvgyPE5l6TWtx7Fa6ZSKVUG2SsvEvh7l?usp=sharing)"
      ]
    },
    {
      "cell_type": "code",
      "execution_count": null,
      "metadata": {
        "colab": {
          "base_uri": "https://localhost:8080/"
        },
        "id": "BzOT129ul4pm",
        "outputId": "e27ce7b4-3096-4535-ca17-d8bcf4288d85"
      },
      "outputs": [
        {
          "output_type": "stream",
          "name": "stdout",
          "text": [
            "Drive already mounted at /content/drive; to attempt to forcibly remount, call drive.mount(\"/content/drive\", force_remount=True).\n",
            "Ingresó : \n",
            "/content/drive/MyDrive/datasets/train/fear\n",
            "/content/drive/MyDrive/datasets/train/fear/13730.jpg\n",
            "/content/drive/MyDrive/datasets/train/fear/486.jpg\n",
            "/content/drive/MyDrive/datasets/train/fear/4522.jpg\n",
            "/content/drive/MyDrive/datasets/train/fear/33624.jpg\n",
            "/content/drive/MyDrive/datasets/train/fear/33389.jpg\n",
            "/content/drive/MyDrive/datasets/train/fear/1667.jpg\n",
            "/content/drive/MyDrive/datasets/train/fear/5944.jpg\n",
            "/content/drive/MyDrive/datasets/train/fear/9854.jpg\n",
            "/content/drive/MyDrive/datasets/train/fear/23394.jpg\n",
            "/content/drive/MyDrive/datasets/train/fear/4001.jpg\n",
            "/content/drive/MyDrive/datasets/train/fear/18202.jpg\n",
            "/content/drive/MyDrive/datasets/train/fear/14912.jpg\n",
            "/content/drive/MyDrive/datasets/train/fear/23352.jpg\n",
            "/content/drive/MyDrive/datasets/train/fear/24655.jpg\n",
            "/content/drive/MyDrive/datasets/train/fear/1322.jpg\n",
            "/content/drive/MyDrive/datasets/train/fear/6399.jpg\n",
            "/content/drive/MyDrive/datasets/train/fear/28563.jpg\n",
            "/content/drive/MyDrive/datasets/train/fear/6821.jpg\n",
            "/content/drive/MyDrive/datasets/train/fear/11105.jpg\n",
            "/content/drive/MyDrive/datasets/train/fear/13130.jpg\n",
            "Ingresó : \n",
            "/content/drive/MyDrive/datasets/train/neutral\n",
            "/content/drive/MyDrive/datasets/train/neutral/22447.jpg\n",
            "/content/drive/MyDrive/datasets/train/neutral/1136.jpg\n",
            "/content/drive/MyDrive/datasets/train/neutral/12888.jpg\n",
            "/content/drive/MyDrive/datasets/train/neutral/113.jpg\n",
            "/content/drive/MyDrive/datasets/train/neutral/32222.jpg\n",
            "/content/drive/MyDrive/datasets/train/neutral/11511.jpg\n",
            "/content/drive/MyDrive/datasets/train/neutral/32702.jpg\n",
            "/content/drive/MyDrive/datasets/train/neutral/567.jpg\n",
            "/content/drive/MyDrive/datasets/train/neutral/27219.jpg\n",
            "/content/drive/MyDrive/datasets/train/neutral/12099.jpg\n",
            "/content/drive/MyDrive/datasets/train/neutral/12963.jpg\n",
            "/content/drive/MyDrive/datasets/train/neutral/12446.jpg\n",
            "/content/drive/MyDrive/datasets/train/neutral/13290.jpg\n",
            "/content/drive/MyDrive/datasets/train/neutral/27963.jpg\n",
            "/content/drive/MyDrive/datasets/train/neutral/16050.jpg\n",
            "/content/drive/MyDrive/datasets/train/neutral/15785.jpg\n",
            "/content/drive/MyDrive/datasets/train/neutral/11211.jpg\n",
            "/content/drive/MyDrive/datasets/train/neutral/18969.jpg\n",
            "/content/drive/MyDrive/datasets/train/neutral/17590.jpg\n",
            "/content/drive/MyDrive/datasets/train/neutral/15609.jpg\n",
            "Ingresó : \n",
            "/content/drive/MyDrive/datasets/validation/fear\n",
            "/content/drive/MyDrive/datasets/validation/fear/30774.jpg\n",
            "/content/drive/MyDrive/datasets/validation/fear/12592.jpg\n",
            "/content/drive/MyDrive/datasets/validation/fear/27503.jpg\n",
            "/content/drive/MyDrive/datasets/validation/fear/27899.jpg\n",
            "/content/drive/MyDrive/datasets/validation/fear/5989.jpg\n",
            "/content/drive/MyDrive/datasets/validation/fear/10968.jpg\n",
            "/content/drive/MyDrive/datasets/validation/fear/13593.jpg\n",
            "/content/drive/MyDrive/datasets/validation/fear/729.jpg\n",
            "/content/drive/MyDrive/datasets/validation/fear/17707.jpg\n",
            "/content/drive/MyDrive/datasets/validation/fear/21230.jpg\n",
            "/content/drive/MyDrive/datasets/validation/fear/24621.jpg\n",
            "/content/drive/MyDrive/datasets/validation/fear/19235.jpg\n",
            "/content/drive/MyDrive/datasets/validation/fear/15678.jpg\n",
            "/content/drive/MyDrive/datasets/validation/fear/6814.jpg\n",
            "/content/drive/MyDrive/datasets/validation/fear/10489.jpg\n",
            "/content/drive/MyDrive/datasets/validation/fear/538.jpg\n",
            "/content/drive/MyDrive/datasets/validation/fear/17217.jpg\n",
            "/content/drive/MyDrive/datasets/validation/fear/22640.jpg\n",
            "/content/drive/MyDrive/datasets/validation/fear/2357.jpg\n",
            "/content/drive/MyDrive/datasets/validation/fear/28308.jpg\n",
            "Ingresó : \n",
            "/content/drive/MyDrive/datasets/validation/neutral\n",
            "/content/drive/MyDrive/datasets/validation/neutral/5444.jpg\n",
            "/content/drive/MyDrive/datasets/validation/neutral/16989.jpg\n",
            "/content/drive/MyDrive/datasets/validation/neutral/14741.jpg\n",
            "/content/drive/MyDrive/datasets/validation/neutral/33399.jpg\n",
            "/content/drive/MyDrive/datasets/validation/neutral/34279.jpg\n",
            "/content/drive/MyDrive/datasets/validation/neutral/19993.jpg\n",
            "/content/drive/MyDrive/datasets/validation/neutral/26227.jpg\n",
            "/content/drive/MyDrive/datasets/validation/neutral/18168.jpg\n",
            "/content/drive/MyDrive/datasets/validation/neutral/22576.jpg\n",
            "/content/drive/MyDrive/datasets/validation/neutral/17695.jpg\n",
            "/content/drive/MyDrive/datasets/validation/neutral/17815.jpg\n",
            "/content/drive/MyDrive/datasets/validation/neutral/12202.jpg\n",
            "/content/drive/MyDrive/datasets/validation/neutral/11823.jpg\n",
            "/content/drive/MyDrive/datasets/validation/neutral/29129.jpg\n",
            "/content/drive/MyDrive/datasets/validation/neutral/20150.jpg\n",
            "/content/drive/MyDrive/datasets/validation/neutral/23565.jpg\n",
            "/content/drive/MyDrive/datasets/validation/neutral/9420.jpg\n",
            "/content/drive/MyDrive/datasets/validation/neutral/32321.jpg\n",
            "/content/drive/MyDrive/datasets/validation/neutral/13909.jpg\n",
            "/content/drive/MyDrive/datasets/validation/neutral/32782.jpg\n"
          ]
        }
      ],
      "source": [
        "from google.colab import drive\n",
        "drive.mount('/content/drive')\n",
        "\n",
        "path = '/content/drive/MyDrive/datasets'\n",
        "\n",
        "c1_emotion = 'fear'\n",
        "c2_emotion = 'neutral'\n",
        "\n",
        "c1_emotion_train  = path +  '/train/' + c1_emotion\n",
        "c2_emotion_train  = path +  '/train/' + c2_emotion\n",
        "\n",
        "c1_emotion_test  = path +  '/validation/' + c1_emotion\n",
        "c2_emotion_test  = path +  '/validation/' + c2_emotion\n",
        "\n",
        "train_x, train_y = get_data(c1_emotion_train, c2_emotion_train,3)\n",
        "test_x, test_y = get_data(c1_emotion_test, c2_emotion_test,3)"
      ]
    },
    {
      "cell_type": "code",
      "execution_count": null,
      "metadata": {
        "colab": {
          "base_uri": "https://localhost:8080/"
        },
        "id": "IH1duP_rs5kv",
        "outputId": "519f28ec-4450-4115-eb48-084d6a767a06"
      },
      "outputs": [
        {
          "output_type": "stream",
          "name": "stdout",
          "text": [
            "(40, 36)\n",
            "(40,)\n",
            "(40, 36)\n",
            "(40,)\n"
          ]
        }
      ],
      "source": [
        "print(train_x.shape)\n",
        "print(train_y.shape)\n",
        "print(test_x.shape)\n",
        "print(test_y.shape)\n",
        "\n"
      ]
    },
    {
      "cell_type": "markdown",
      "metadata": {
        "id": "hf3IPJbCeP3z"
      },
      "source": [
        "### 1. Hypothesis :  Remember, you can achieve it using linear algebra.\n",
        "\n",
        "$h(x_i) = x_i*w^t + b$"
      ]
    },
    {
      "cell_type": "code",
      "execution_count": null,
      "metadata": {
        "id": "sAl5uDMceQSk"
      },
      "outputs": [],
      "source": [
        "def h(X,w,b):\n",
        "  return np.dot(X, w) + b"
      ]
    },
    {
      "cell_type": "markdown",
      "metadata": {
        "id": "NyZEBRyKS5j_"
      },
      "source": [
        "### 2. Loss function\n",
        "\n",
        "$L = \\frac{1}{2}\\parallel W \\parallel_2^2  + C\\sum_{i=0}^nmax(0,1-y_i(x_iw^t + b)) $\n"
      ]
    },
    {
      "cell_type": "code",
      "execution_count": null,
      "metadata": {
        "id": "d6uS2nT1vqJw"
      },
      "outputs": [],
      "source": [
        "# Implemente la función de pérdida del soft SVM\n",
        "def loss(w,y,y_aprox,C):\n",
        "  margin_err = 1/2 * (np.linalg.norm(w) **2)\n",
        "  class_err = C * np.sum(np.maximum(0,1 - y * y_aprox))\n",
        "  L = margin_err + class_err\n",
        "  return L"
      ]
    },
    {
      "cell_type": "markdown",
      "metadata": {
        "id": "R3DZvmJin1u7"
      },
      "source": []
    },
    {
      "cell_type": "markdown",
      "metadata": {
        "id": "OtQf5LcKsRmj"
      },
      "source": [
        "### 3. Derivatives\n",
        "\n",
        "1. iF ($y_i*h(x_i)) \\lt 1 $\n",
        " - $\\frac{\\partial L}{\\partial w} = w + C\\sum_{\n",
        " i=0}^n-y_i*x_i $\n",
        "2. else\n",
        " - $\\frac{\\partial L}{\\partial w} = w $\n",
        "\n",
        "----\n",
        "**Don't forget to find the derivatives for Bias.**\n",
        "\n",
        "\n",
        "\n",
        "\n",
        "\n"
      ]
    },
    {
      "cell_type": "code",
      "execution_count": null,
      "metadata": {
        "id": "6GWcF6a-v0J1"
      },
      "outputs": [],
      "source": [
        "# Implemente la función para obtener las derivadas de W\n",
        "def derivatives(x, y, y_aprox, w, b, C):\n",
        "    loss_matrix = 1 - y * y_aprox\n",
        "    hinge_loss = np.maximum(0, loss_matrix)\n",
        "    dw = w + C * np.sum(-y[:, np.newaxis] * x * (hinge_loss > 0)[:, np.newaxis], axis=0)\n",
        "    db = C * np.sum(-y * (hinge_loss > 0))\n",
        "\n",
        "    return db, dw"
      ]
    },
    {
      "cell_type": "markdown",
      "metadata": {
        "id": "5dKoV2jksZ0-"
      },
      "source": [
        "### 4. Change Parameters\n",
        "\n",
        "\n",
        "1. iF ($y_i*h(x_i)) \\lt 1 $\n",
        " - $w  = w -  \\alpha( C\\sum_{\n",
        " i=0}^n-y_i*x_i) $\n",
        "2. else\n",
        " - $w = w -  \\alpha*w$\n",
        "\n",
        "----\n",
        "**Don't forget charge the Bias.**\n"
      ]
    },
    {
      "cell_type": "code",
      "execution_count": null,
      "metadata": {
        "id": "G6fVT25-v579"
      },
      "outputs": [],
      "source": [
        "def Update(y,y_aprox,w, b, db, dw, alpha,C):\n",
        "  w = w - alpha * dw\n",
        "  b = b - alpha * db\n",
        "  return w, b"
      ]
    },
    {
      "cell_type": "markdown",
      "metadata": {
        "id": "oEKGyLYJsfDc"
      },
      "source": [
        "# 5. Training stage"
      ]
    },
    {
      "cell_type": "code",
      "execution_count": null,
      "metadata": {
        "id": "K9lvycWyv-Qd"
      },
      "outputs": [],
      "source": [
        "def training(X, Y, C, alpha, epochs):\n",
        "  w = np.array([np.random.rand() for i in range(X.shape[1])])\n",
        "  b = np.random.rand()\n",
        "  error = []\n",
        "  for i in range(epochs):\n",
        "    Y_aprox = h(X,w,b)\n",
        "    db, dw = derivatives(X, Y,Y_aprox, w, b, C)\n",
        "    w, b = Update(Y,Y_aprox,w, b, db, dw, alpha,C)\n",
        "    L = loss(w,Y,Y_aprox,C)\n",
        "    error.append(L)\n",
        "  return w, b, error"
      ]
    },
    {
      "cell_type": "markdown",
      "metadata": {
        "id": "rJRNAmzbsjKp"
      },
      "source": [
        "### 6. Testing Stage"
      ]
    },
    {
      "cell_type": "code",
      "execution_count": null,
      "metadata": {
        "id": "I0iqS5EdwEM_"
      },
      "outputs": [],
      "source": [
        "# Implemente la función de testing\n",
        "def testing(X, W, b):\n",
        "    y_aprox = []\n",
        "    for i in range(X.shape[0]):\n",
        "        y_aprox.append(np.sign(h(X[i], W, b)))  # Usar la función 'h' para hacer la predicción\n",
        "    return np.array(y_aprox)\n"
      ]
    },
    {
      "cell_type": "code",
      "execution_count": null,
      "metadata": {
        "colab": {
          "base_uri": "https://localhost:8080/"
        },
        "id": "0uF_jWeeTAPc",
        "outputId": "fcaf2493-b7ac-42ab-beb9-3594d8e37e58"
      },
      "outputs": [
        {
          "output_type": "stream",
          "name": "stdout",
          "text": [
            "Clasificados correctamente: 24\n",
            "Clasificados incorrectamente: 16\n",
            "% de efectividad 60.0\n"
          ]
        }
      ],
      "source": [
        "# Main Program\n",
        "\n",
        "m = train_y.size\n",
        "k = train_x[0].size\n",
        "train_x_norm = np.apply_along_axis(normalizacion, 1, train_x)\n",
        "test_x_norm = np.apply_along_axis(normalizacion, 1, test_x)\n",
        "\n",
        "W, b, error = training(train_x_norm, train_y, C=10, alpha=1e-6, epochs=20000)\n",
        "\n",
        "m = test_y.size\n",
        "y_pred = testing(test_x_norm, W, b)\n",
        "\n",
        "test_y = test_y.astype('int')\n",
        "y_pred = y_pred.astype('int')\n",
        "\n",
        "\n",
        "indices_iguales = np.where(y_pred == test_y)\n",
        "correct = len(indices_iguales[0])\n",
        "print(\"Clasificados correctamente:\", correct)\n",
        "print(\"Clasificados incorrectamente:\", len(test_y)-correct)\n",
        "print(\"% de efectividad\", round(100*correct/len(test_y), 2))"
      ]
    },
    {
      "cell_type": "code",
      "execution_count": null,
      "metadata": {
        "colab": {
          "base_uri": "https://localhost:8080/"
        },
        "id": "X4qzBRVJ7ky8",
        "outputId": "760f1e6e-8a11-4bb0-a821-2e21f12127f5"
      },
      "outputs": [
        {
          "output_type": "stream",
          "name": "stdout",
          "text": [
            "W shape: (36,)\n",
            "W sample: [-3.57860243  3.19912725 -1.77576771  0.38707974  3.29632725 -0.95031381\n",
            "  2.64921624  7.69244477 -0.96102397 -1.31194514]\n",
            "X shape: (40, 36)\n",
            "b shape: ()\n",
            "b sample: 0.6749224104026882\n",
            "test_y shape: (40,)\n",
            "test_y sample: [-1 -1  1  1 -1 -1 -1 -1 -1  1]\n",
            "y_pred shape: (40,)\n",
            "y_pred sample: [-1  1  1 -1 -1  1 -1  1 -1  1]\n"
          ]
        }
      ],
      "source": [
        "\n",
        "print(\"W shape:\", W.shape)\n",
        "print(\"W sample:\", W[:10])\n",
        "\n",
        "print(\"X shape:\", test_x_norm.shape)\n",
        "#print(\"X sample:\", test_x_norm[:10])\n",
        "\n",
        "print(\"b shape:\", b.shape)\n",
        "print(\"b sample:\", b)\n",
        "\n",
        "\n",
        "print(\"test_y shape:\", test_y.shape)\n",
        "print(\"test_y sample:\", test_y[:10])\n",
        "\n",
        "print(\"y_pred shape:\", y_pred.shape)\n",
        "print(\"y_pred sample:\", y_pred[:10])\n"
      ]
    },
    {
      "cell_type": "code",
      "execution_count": null,
      "metadata": {
        "colab": {
          "base_uri": "https://localhost:8080/"
        },
        "id": "MkZIUvxWAFDe",
        "outputId": "10f6c626-6694-4549-e820-c4afa5e59028"
      },
      "outputs": [
        {
          "output_type": "execute_result",
          "data": {
            "text/plain": [
              "0.6"
            ]
          },
          "metadata": {},
          "execution_count": 122
        }
      ],
      "source": [
        "from sklearn.svm import SVC # comparando los resultados con otra libreria\n",
        "model = SVC(C=1, kernel='rbf', gamma='scale')\n",
        "model.fit(train_x, train_y)\n",
        "model.score(test_x, test_y)\n"
      ]
    },
    {
      "cell_type": "code",
      "execution_count": null,
      "metadata": {
        "colab": {
          "base_uri": "https://localhost:8080/",
          "height": 506
        },
        "id": "du50NSwaKe83",
        "outputId": "a80bbb0d-b95a-4ca6-dbf0-cae7ea9150ae"
      },
      "outputs": [
        {
          "output_type": "display_data",
          "data": {
            "text/plain": [
              "<Figure size 640x480 with 1 Axes>"
            ],
            "image/png": "[encoded data removed]"
          },
          "metadata": {}
        }
      ],
      "source": [
        "matrix = confusion_matrix(test_y,y_pred)\n",
        "df2 = pd.DataFrame(matrix.astype('float') / matrix.sum(axis=1)[:, np.newaxis], index=[\"Angry\", 'Happy'], columns=[\"Angry\", 'Happy'])\n",
        "sns.heatmap(df2, annot=True, cbar=None, cmap=\"Greens\")\n",
        "plt.title(\"Confusion Matrix\"), plt.tight_layout()\n",
        "plt.xlabel(\"Predicted\")\n",
        "plt.ylabel(\"Real\")\n",
        "plt.show()"
      ]
    },
    {
      "cell_type": "markdown",
      "metadata": {
        "id": "1Hkcd0hls1Ir"
      },
      "source": [
        "[Documento de excel](https://docs.google.com/spreadsheets/d/1yxYCjj_uS2Wrj8ofAc7hiRoCYX0-wJNiTMzGnWdsZoA/edit?usp=sharing)"
      ]
    }
  ],
  "metadata": {
    "colab": {
      "provenance": []
    },
    "kernelspec": {
      "display_name": "Python 3",
      "name": "python3"
    },
    "language_info": {
      "name": "python"
    }
  },
  "nbformat": 4,
  "nbformat_minor": 0
}