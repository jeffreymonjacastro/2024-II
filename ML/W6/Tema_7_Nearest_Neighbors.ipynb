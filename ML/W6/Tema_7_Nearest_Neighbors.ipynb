{
  "nbformat": 4,
  "nbformat_minor": 0,
  "metadata": {
    "colab": {
      "provenance": []
    },
    "kernelspec": {
      "name": "python3",
      "display_name": "Python 3"
    },
    "language_info": {
      "name": "python"
    }
  },
  "cells": [
    {
      "cell_type": "markdown",
      "source": [
        "# **Nearest Neighbors**\n",
        "\n",
        "### **Tasks**\n",
        "1. Implement the K-Nearest Neighbors (KNN) algorithm from scratch.\n",
        "2. Evaluate the performance of the KNN model using a confusion matrix.\n",
        "3. Optimize the model to achieve the best accuracy on CIFAR-10 dataset.\n"
      ],
      "metadata": {
        "id": "UhKLL8SuLb_q"
      }
    },
    {
      "cell_type": "markdown",
      "source": [
        "## **Part 1: Load the CIFAR-10 Dataset**\n",
        "We'll use the CIFAR-10 dataset, which contains 60,000 32x32 color images in 10 classes.\n",
        "\n",
        "We will load this dataset using the Keras library."
      ],
      "metadata": {
        "id": "AswyzlGfNGhG"
      }
    },
    {
      "cell_type": "code",
      "execution_count": null,
      "metadata": {
        "id": "WYleatpXLYVH"
      },
      "outputs": [],
      "source": [
        "import numpy as np\n",
        "import matplotlib.pyplot as plt\n",
        "from keras.datasets import cifar10\n",
        "from sklearn.model_selection import train_test_split\n",
        "from sklearn.preprocessing import StandardScaler\n",
        "\n",
        "# Load the CIFAR-10 dataset\n",
        "(X_train, y_train), (X_test, y_test) = cifar10.load_data()\n",
        "\n",
        "\n",
        "# Reshape the labels to be a 1D array\n",
        "y_train = y_train.reshape(-1)\n",
        "y_test = y_test.reshape(-1)\n",
        "\n",
        "# Normalize the data (to improve distance calculations)\n",
        "X_train = X_train.astype(\"float32\") / 255.0\n",
        "X_test = X_test.astype(\"float32\") / 255.0\n",
        "# Flatten the 32x32x3 images into 1D arrays for simpler processing in nearest neighbor\n",
        "X_train_flat = X_train.reshape(X_train.shape[0], -1)\n",
        "X_test_flat = X_test.reshape(X_test.shape[0], -1)"
      ]
    },
    {
      "cell_type": "markdown",
      "source": [
        "## **Part 2: Load the MNIST Dataset**\n",
        "We'll use the MNIST dataset, which contains 70,000 28x28 color images in 10 classes."
      ],
      "metadata": {
        "id": "pJU6AjGmdtww"
      }
    },
    {
      "cell_type": "code",
      "source": [
        "import numpy as np\n",
        "import matplotlib.pyplot as plt\n",
        "from sklearn.datasets import fetch_openml\n",
        "from sklearn.model_selection import train_test_split\n",
        "from sklearn.preprocessing import StandardScaler\n",
        "from sklearn.neighbors import KNeighborsClassifier\n",
        "from sklearn.metrics import confusion_matrix, accuracy_score\n",
        "\n",
        "# Load the MNIST dataset\n",
        "mnist = fetch_openml('mnist_784')\n",
        "X = mnist['data']\n",
        "y = mnist['target'].astype(int)\n",
        "\n",
        "# Split the dataset into train and test sets\n",
        "X_train, X_test, y_train, y_test = train_test_split(X, y, test_size=0.2, random_state=42)\n",
        "\n",
        "# Normalize the pixel values by scaling them to [0, 1].\n",
        "X_train = X_train / 255.0\n",
        "X_test = X_test / 255.0\n",
        "print(X_train.shape, X_test.shape)\n",
        "\n",
        "# Standardize the data\n",
        "scaler = StandardScaler()\n",
        "X_train_flat = scaler.fit_transform(X_train)\n",
        "X_test_flat = scaler.transform(X_test)"
      ],
      "metadata": {
        "id": "q5Q-B1MTdtQY",
        "colab": {
          "base_uri": "https://localhost:8080/"
        },
        "outputId": "4aa412cb-4dae-4c00-be22-1be70e35f755"
      },
      "execution_count": null,
      "outputs": [
        {
          "output_type": "stream",
          "name": "stdout",
          "text": [
            "(56000, 784) (14000, 784)\n"
          ]
        }
      ]
    },
    {
      "cell_type": "markdown",
      "source": [
        "## **Part 2: Implement Nearest Neighbor**\n",
        "Now, implement the nearest neighbor algorithm from scratch (data strcture? hyperparameters?)."
      ],
      "metadata": {
        "id": "GyZuHYN1NR0N"
      }
    },
    {
      "cell_type": "code",
      "source": [
        "class NearestNeighbor:\n",
        "    def __init__(self, k):\n",
        "        pass\n",
        "\n",
        "    def fit(self, X_train, y_train):\n",
        "        pass\n",
        "\n",
        "    def predict(self, X_test):\n",
        "        pass"
      ],
      "metadata": {
        "id": "q08fCGMANsuO"
      },
      "execution_count": null,
      "outputs": []
    },
    {
      "cell_type": "code",
      "source": [
        "nn = NearestNeighbor()\n",
        "nn.fit(X_train_flat, y_train)\n",
        "\n",
        "# Make predictions\n",
        "y_pred = nn.predict(X_test_flat)"
      ],
      "metadata": {
        "id": "-6uaSxvQNtzv"
      },
      "execution_count": null,
      "outputs": []
    },
    {
      "cell_type": "markdown",
      "source": [
        "## **Part 3: Evaluate with Confusion Matrix and Accuracy**\n",
        "Here, you need to calculate the confusion matrix and accuracy for the CIFAR-10 classification task.\n"
      ],
      "metadata": {
        "id": "Dt-bh0JjNdi2"
      }
    },
    {
      "cell_type": "code",
      "source": [
        "# Calculate confussion matrix\n",
        "print(\"Confusion Matrix:\")\n",
        "\n",
        "# Calculate accuracy\n",
        "print(\"\\nAccuracy:\")"
      ],
      "metadata": {
        "id": "QT8jwupRN6-E"
      },
      "execution_count": null,
      "outputs": []
    },
    {
      "cell_type": "markdown",
      "source": [
        "## **Part 4: Visualizing Some Predictions**\n",
        "You can visualize some predictions to better understand how well the model performs.\n"
      ],
      "metadata": {
        "id": "Qv6YsE1MOFmr"
      }
    },
    {
      "cell_type": "code",
      "source": [
        "def plot_sample_images(X, y_true, y_pred=None):\n",
        "    fig, axes = plt.subplots(1, 5, figsize=(15, 3))\n",
        "    for i, ax in enumerate(axes):\n",
        "        ax.imshow(X[i])\n",
        "        ax.axis('off')\n",
        "        title = f'True: {y_true[i]}'\n",
        "        if y_pred is not None:\n",
        "            title += f'\\nPred: {y_pred[i]}'\n",
        "        ax.set_title(title)\n",
        "    plt.show()\n",
        "\n",
        "\n",
        "plot_sample_images(X_test, y_test, y_pred)"
      ],
      "metadata": {
        "id": "QGIHi1JqOSUE"
      },
      "execution_count": null,
      "outputs": []
    },
    {
      "cell_type": "markdown",
      "source": [
        "## **Part 5: Improve the Model**\n",
        "\n",
        "Try different distance metrics and hyperparameters for better performance. Report your best performance (accuracy + confussion matrix + precition + recall + f1 score)."
      ],
      "metadata": {
        "id": "lXbpsB7aOTbD"
      }
    }
  ]
}