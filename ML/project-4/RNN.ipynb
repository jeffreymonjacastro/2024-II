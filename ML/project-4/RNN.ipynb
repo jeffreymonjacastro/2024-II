{
 "cells": [
  {
   "cell_type": "markdown",
   "metadata": {
    "id": "GQM6jtNKwFZq"
   },
   "source": [
    "# Recurrent Neural Networks\n"
   ]
  },
  {
   "cell_type": "code",
   "execution_count": 1,
   "metadata": {
    "id": "ZX4OI6Pswehg"
   },
   "outputs": [],
   "source": [
    "import torch\n",
    "import numpy as np\n",
    "import torch.nn as nn\n",
    "import pandas as pd\n",
    "import matplotlib.pyplot as plt"
   ]
  },
  {
   "cell_type": "code",
   "execution_count": 2,
   "metadata": {
    "colab": {
     "base_uri": "https://localhost:8080/"
    },
    "id": "qkZpes7KwmRz",
    "outputId": "7c831a7e-ad60-473e-d277-575a0a0bcba2"
   },
   "outputs": [
    {
     "name": "stdout",
     "output_type": "stream",
     "text": [
      "Using device: cpu\n"
     ]
    }
   ],
   "source": [
    "device = torch.device('cuda' if torch.cuda.is_available() else 'cpu')\n",
    "print(f'Using device: {device}')"
   ]
  },
  {
   "cell_type": "markdown",
   "metadata": {
    "id": "Fa49YJhL3QFF"
   },
   "source": [
    "## Extract the data"
   ]
  },
  {
   "cell_type": "code",
   "execution_count": 7,
   "metadata": {
    "colab": {
     "base_uri": "https://localhost:8080/"
    },
    "id": "EgZo3giWvqwP",
    "outputId": "ab8ece24-6f3e-431f-c2a2-57be785ed6ec"
   },
   "outputs": [],
   "source": [
    "# from google.colab import drive\n",
    "# drive.mount('/content/drive')"
   ]
  },
  {
   "cell_type": "code",
   "execution_count": 3,
   "metadata": {
    "id": "gdLXA-cLxCLJ"
   },
   "outputs": [
    {
     "name": "stdout",
     "output_type": "stream",
     "text": [
      "(25000, 2)\n",
      "(25000, 1)\n"
     ]
    },
    {
     "data": {
      "text/html": [
       "<div>\n",
       "<style scoped>\n",
       "    .dataframe tbody tr th:only-of-type {\n",
       "        vertical-align: middle;\n",
       "    }\n",
       "\n",
       "    .dataframe tbody tr th {\n",
       "        vertical-align: top;\n",
       "    }\n",
       "\n",
       "    .dataframe thead th {\n",
       "        text-align: right;\n",
       "    }\n",
       "</style>\n",
       "<table border=\"1\" class=\"dataframe\">\n",
       "  <thead>\n",
       "    <tr style=\"text-align: right;\">\n",
       "      <th></th>\n",
       "      <th>message</th>\n",
       "      <th>label</th>\n",
       "    </tr>\n",
       "  </thead>\n",
       "  <tbody>\n",
       "    <tr>\n",
       "      <th>0</th>\n",
       "      <td>I saw this movie in NEW York city. I was waiti...</td>\n",
       "      <td>neg</td>\n",
       "    </tr>\n",
       "    <tr>\n",
       "      <th>1</th>\n",
       "      <td>This is a German film from 1974 that is someth...</td>\n",
       "      <td>neg</td>\n",
       "    </tr>\n",
       "    <tr>\n",
       "      <th>2</th>\n",
       "      <td>I attempted watching this movie twice and even...</td>\n",
       "      <td>neg</td>\n",
       "    </tr>\n",
       "    <tr>\n",
       "      <th>3</th>\n",
       "      <td>On his birthday a small boys tells his mother ...</td>\n",
       "      <td>neg</td>\n",
       "    </tr>\n",
       "    <tr>\n",
       "      <th>4</th>\n",
       "      <td>The person who wrote the review \"enough with t...</td>\n",
       "      <td>pos</td>\n",
       "    </tr>\n",
       "  </tbody>\n",
       "</table>\n",
       "</div>"
      ],
      "text/plain": [
       "                                             message label\n",
       "0  I saw this movie in NEW York city. I was waiti...   neg\n",
       "1  This is a German film from 1974 that is someth...   neg\n",
       "2  I attempted watching this movie twice and even...   neg\n",
       "3  On his birthday a small boys tells his mother ...   neg\n",
       "4  The person who wrote the review \"enough with t...   pos"
      ]
     },
     "execution_count": 3,
     "metadata": {},
     "output_type": "execute_result"
    }
   ],
   "source": [
    "# path = \"/content/drive/Shareddrives/G5/project-4-sentiment-classification/\"\n",
    "path = \"./\"\n",
    "train_data = pd.read_csv(path + \"train.csv\")\n",
    "test_data = pd.read_csv(path + \"test.csv\")\n",
    "\n",
    "print(train_data.shape)\n",
    "print(test_data.shape)\n",
    "train_data.head()"
   ]
  },
  {
   "cell_type": "code",
   "execution_count": 4,
   "metadata": {
    "colab": {
     "base_uri": "https://localhost:8080/"
    },
    "id": "bWYIUMPfxCkd",
    "outputId": "d9e701c1-a641-45a2-9ef8-8489d199a139"
   },
   "outputs": [
    {
     "name": "stderr",
     "output_type": "stream",
     "text": [
      "[nltk_data] Downloading package stopwords to\n",
      "[nltk_data]     C:\\Users\\jeffr\\AppData\\Roaming\\nltk_data...\n",
      "[nltk_data]   Package stopwords is already up-to-date!\n",
      "[nltk_data] Downloading package wordnet to\n",
      "[nltk_data]     C:\\Users\\jeffr\\AppData\\Roaming\\nltk_data...\n",
      "[nltk_data]   Package wordnet is already up-to-date!\n",
      "[nltk_data] Downloading package punkt_tab to\n",
      "[nltk_data]     C:\\Users\\jeffr\\AppData\\Roaming\\nltk_data...\n",
      "[nltk_data]   Package punkt_tab is already up-to-date!\n"
     ]
    },
    {
     "data": {
      "text/plain": [
       "True"
      ]
     },
     "execution_count": 4,
     "metadata": {},
     "output_type": "execute_result"
    }
   ],
   "source": [
    "import nltk\n",
    "from nltk.corpus import stopwords\n",
    "from nltk.stem import WordNetLemmatizer\n",
    "from nltk.tokenize import word_tokenize\n",
    "\n",
    "nltk.download('stopwords')\n",
    "nltk.download('wordnet')\n",
    "nltk.download('punkt_tab')"
   ]
  },
  {
   "cell_type": "code",
   "execution_count": 5,
   "metadata": {},
   "outputs": [],
   "source": [
    "def preprocess_text(text):\n",
    "    tokens = word_tokenize(text.lower())\n",
    "    lemmatizer = WordNetLemmatizer()\n",
    "    stop_words = set(stopwords.words('english'))\n",
    "    tokens = [lemmatizer.lemmatize(token.lower()) for token in tokens if token.isalpha() and token.lower() not in stop_words]\n",
    "    return ' '.join(tokens)"
   ]
  },
  {
   "cell_type": "code",
   "execution_count": 6,
   "metadata": {},
   "outputs": [],
   "source": [
    "train_data['tokens'] = train_data['message'].apply(preprocess_text)\n",
    "test_data['tokens'] = test_data['message'].apply(preprocess_text)"
   ]
  },
  {
   "cell_type": "code",
   "execution_count": 13,
   "metadata": {},
   "outputs": [
    {
     "data": {
      "text/html": [
       "<div>\n",
       "<style scoped>\n",
       "    .dataframe tbody tr th:only-of-type {\n",
       "        vertical-align: middle;\n",
       "    }\n",
       "\n",
       "    .dataframe tbody tr th {\n",
       "        vertical-align: top;\n",
       "    }\n",
       "\n",
       "    .dataframe thead th {\n",
       "        text-align: right;\n",
       "    }\n",
       "</style>\n",
       "<table border=\"1\" class=\"dataframe\">\n",
       "  <thead>\n",
       "    <tr style=\"text-align: right;\">\n",
       "      <th></th>\n",
       "      <th>message</th>\n",
       "      <th>label</th>\n",
       "      <th>tokens</th>\n",
       "      <th>vectors</th>\n",
       "    </tr>\n",
       "  </thead>\n",
       "  <tbody>\n",
       "    <tr>\n",
       "      <th>0</th>\n",
       "      <td>I saw this movie in NEW York city. I was waiti...</td>\n",
       "      <td>0</td>\n",
       "      <td>saw movie new york city waiting bus next morni...</td>\n",
       "      <td>[[-0.21996641, 0.17705941, -0.0033930233, -0.6...</td>\n",
       "    </tr>\n",
       "    <tr>\n",
       "      <th>1</th>\n",
       "      <td>This is a German film from 1974 that is someth...</td>\n",
       "      <td>0</td>\n",
       "      <td>german film something woman come castle beyond...</td>\n",
       "      <td>[[-0.46728015, 0.27693665, -0.29466736, -0.378...</td>\n",
       "    </tr>\n",
       "    <tr>\n",
       "      <th>2</th>\n",
       "      <td>I attempted watching this movie twice and even...</td>\n",
       "      <td>0</td>\n",
       "      <td>attempted watching movie twice even fast forwa...</td>\n",
       "      <td>[[-0.12267326, -0.110086754, 0.07383823, 0.421...</td>\n",
       "    </tr>\n",
       "    <tr>\n",
       "      <th>3</th>\n",
       "      <td>On his birthday a small boys tells his mother ...</td>\n",
       "      <td>0</td>\n",
       "      <td>birthday small boy tell mother son want go hom...</td>\n",
       "      <td>[[0.0073563126, 0.34156787, -0.5304753, -0.314...</td>\n",
       "    </tr>\n",
       "    <tr>\n",
       "      <th>4</th>\n",
       "      <td>The person who wrote the review \"enough with t...</td>\n",
       "      <td>1</td>\n",
       "      <td>person wrote review enough sweating spitting a...</td>\n",
       "      <td>[[-0.0344274, 0.1957269, -0.32643205, 0.307864...</td>\n",
       "    </tr>\n",
       "  </tbody>\n",
       "</table>\n",
       "</div>"
      ],
      "text/plain": [
       "                                             message  label  \\\n",
       "0  I saw this movie in NEW York city. I was waiti...      0   \n",
       "1  This is a German film from 1974 that is someth...      0   \n",
       "2  I attempted watching this movie twice and even...      0   \n",
       "3  On his birthday a small boys tells his mother ...      0   \n",
       "4  The person who wrote the review \"enough with t...      1   \n",
       "\n",
       "                                              tokens  \\\n",
       "0  saw movie new york city waiting bus next morni...   \n",
       "1  german film something woman come castle beyond...   \n",
       "2  attempted watching movie twice even fast forwa...   \n",
       "3  birthday small boy tell mother son want go hom...   \n",
       "4  person wrote review enough sweating spitting a...   \n",
       "\n",
       "                                             vectors  \n",
       "0  [[-0.21996641, 0.17705941, -0.0033930233, -0.6...  \n",
       "1  [[-0.46728015, 0.27693665, -0.29466736, -0.378...  \n",
       "2  [[-0.12267326, -0.110086754, 0.07383823, 0.421...  \n",
       "3  [[0.0073563126, 0.34156787, -0.5304753, -0.314...  \n",
       "4  [[-0.0344274, 0.1957269, -0.32643205, 0.307864...  "
      ]
     },
     "execution_count": 13,
     "metadata": {},
     "output_type": "execute_result"
    }
   ],
   "source": [
    "train_data.head()"
   ]
  },
  {
   "cell_type": "code",
   "execution_count": 7,
   "metadata": {},
   "outputs": [],
   "source": [
    "from sklearn.preprocessing import LabelEncoder\n",
    "\n",
    "label_encoder = LabelEncoder()  \n",
    "train_data['label'] = label_encoder.fit_transform(train_data['label'])"
   ]
  },
  {
   "cell_type": "code",
   "execution_count": 8,
   "metadata": {},
   "outputs": [],
   "source": [
    "from gensim.models import Word2Vec\n",
    "\n",
    "sentences = train_data['tokens'].apply(lambda x: x.split()).to_list()\n",
    "word2vec = Word2Vec(sentences=sentences, vector_size=100, window=5, min_count=1, sg=1)\n",
    "\n",
    "sentences_test = test_data['tokens'].apply(lambda x: x.split()).to_list()\n",
    "word2vec_test = Word2Vec(sentences=sentences_test, vector_size=100, window=5, min_count=1, sg=1)"
   ]
  },
  {
   "cell_type": "code",
   "execution_count": 16,
   "metadata": {},
   "outputs": [
    {
     "data": {
      "text/plain": [
       "[('creepier', 0.7893841862678528),\n",
       " ('hmmmm', 0.7754266262054443),\n",
       " ('preteen', 0.7654963135719299),\n",
       " ('alot', 0.7647897005081177),\n",
       " ('anyways', 0.7632929086685181)]"
      ]
     },
     "execution_count": 16,
     "metadata": {},
     "output_type": "execute_result"
    }
   ],
   "source": [
    "word2vec.wv.most_similar(\"like\", topn=5)"
   ]
  },
  {
   "cell_type": "code",
   "execution_count": 9,
   "metadata": {},
   "outputs": [],
   "source": [
    "def sentence_to_vectors(sentence, model, vector_size=100):\n",
    "    vectors = []\n",
    "    for word in sentence.split():\n",
    "        if word in model.wv:\n",
    "            vectors.append(model.wv[word])\n",
    "        else:\n",
    "            vectors.append([0] * vector_size)\n",
    "    return np.array(vectors)"
   ]
  },
  {
   "cell_type": "code",
   "execution_count": 10,
   "metadata": {},
   "outputs": [],
   "source": [
    "train_data['vectors'] = train_data['tokens'].apply(lambda x: sentence_to_vectors(x, word2vec))\n",
    "test_data['vectors'] = test_data['tokens'].apply(lambda x: sentence_to_vectors(x, word2vec_test))"
   ]
  },
  {
   "cell_type": "code",
   "execution_count": 41,
   "metadata": {},
   "outputs": [],
   "source": [
    "from sklearn.feature_extraction.text import TfidfVectorizer\n",
    "\n",
    "vectorizer = TfidfVectorizer(max_features=5000, stop_words='english', ngram_range=(1, 2), lowercase=True)\n",
    "X_train_tfidf = vectorizer.fit_transform(train_data['tokens']).toarray()\n",
    "X_test_tfidf = list(vectorizer.transform(test_data['tokens']).toarray())"
   ]
  },
  {
   "cell_type": "code",
   "execution_count": 12,
   "metadata": {},
   "outputs": [
    {
     "name": "stdout",
     "output_type": "stream",
     "text": [
      "Max length: 1421\n",
      "Mean length: 119\n"
     ]
    }
   ],
   "source": [
    "max_len = max(train_data['tokens'].apply(lambda text: len(text.split())))\n",
    "mean_len = int(round(np.mean(train_data['tokens'].apply(lambda text: len(text.split())))))\n",
    "\n",
    "print(f'Max length: {max_len}')\n",
    "print(f'Mean length: {mean_len}')"
   ]
  },
  {
   "cell_type": "code",
   "execution_count": 13,
   "metadata": {},
   "outputs": [],
   "source": [
    "def pad_sentences(vectors, max_len, vector_size=100):\n",
    "    if len(vectors) > max_len:\n",
    "        vectors = vectors[:max_len]\n",
    "    else:\n",
    "        padding = np.zeros((max_len - len(vectors), vector_size))\n",
    "        vectors = np.vstack([vectors, padding])\n",
    "    return torch.tensor(vectors, dtype=torch.float32)"
   ]
  },
  {
   "cell_type": "code",
   "execution_count": 14,
   "metadata": {},
   "outputs": [],
   "source": [
    "train_data['tensor'] = train_data['vectors'].apply(lambda x: pad_sentences(x, mean_len, word2vec.vector_size))\n",
    "test_data['tensor'] = test_data['vectors'].apply(lambda x: pad_sentences(x, mean_len, word2vec_test.vector_size))"
   ]
  },
  {
   "cell_type": "code",
   "execution_count": 113,
   "metadata": {},
   "outputs": [
    {
     "data": {
      "text/html": [
       "<div>\n",
       "<style scoped>\n",
       "    .dataframe tbody tr th:only-of-type {\n",
       "        vertical-align: middle;\n",
       "    }\n",
       "\n",
       "    .dataframe tbody tr th {\n",
       "        vertical-align: top;\n",
       "    }\n",
       "\n",
       "    .dataframe thead th {\n",
       "        text-align: right;\n",
       "    }\n",
       "</style>\n",
       "<table border=\"1\" class=\"dataframe\">\n",
       "  <thead>\n",
       "    <tr style=\"text-align: right;\">\n",
       "      <th></th>\n",
       "      <th>message</th>\n",
       "      <th>label</th>\n",
       "      <th>tokens</th>\n",
       "      <th>vectors</th>\n",
       "      <th>tfidf</th>\n",
       "      <th>tensor</th>\n",
       "    </tr>\n",
       "  </thead>\n",
       "  <tbody>\n",
       "    <tr>\n",
       "      <th>0</th>\n",
       "      <td>I saw this movie in NEW York city. I was waiti...</td>\n",
       "      <td>0</td>\n",
       "      <td>saw movie new york city waiting bus next morni...</td>\n",
       "      <td>[[0.17053513, 0.044531778, -0.5490574, -0.4508...</td>\n",
       "      <td>[0.0, 0.0, 0.0, 0.0, 0.0, 0.0, 0.0, 0.0, 0.0, ...</td>\n",
       "      <td>[[tensor(0.1705), tensor(0.0445), tensor(-0.54...</td>\n",
       "    </tr>\n",
       "    <tr>\n",
       "      <th>1</th>\n",
       "      <td>This is a German film from 1974 that is someth...</td>\n",
       "      <td>0</td>\n",
       "      <td>german film something woman come castle beyond...</td>\n",
       "      <td>[[-0.2837934, 0.1716008, -0.071153946, -0.3870...</td>\n",
       "      <td>[0.0, 0.0, 0.0, 0.0, 0.0, 0.0, 0.0, 0.0, 0.0, ...</td>\n",
       "      <td>[[tensor(-0.2838), tensor(0.1716), tensor(-0.0...</td>\n",
       "    </tr>\n",
       "    <tr>\n",
       "      <th>2</th>\n",
       "      <td>I attempted watching this movie twice and even...</td>\n",
       "      <td>0</td>\n",
       "      <td>attempted watching movie twice even fast forwa...</td>\n",
       "      <td>[[-0.015660213, 0.0361225, 0.23330258, 0.34803...</td>\n",
       "      <td>[0.0, 0.0, 0.0, 0.0, 0.0, 0.0, 0.0, 0.0, 0.0, ...</td>\n",
       "      <td>[[tensor(-0.0157), tensor(0.0361), tensor(0.23...</td>\n",
       "    </tr>\n",
       "    <tr>\n",
       "      <th>3</th>\n",
       "      <td>On his birthday a small boys tells his mother ...</td>\n",
       "      <td>0</td>\n",
       "      <td>birthday small boy tell mother son want go hom...</td>\n",
       "      <td>[[0.16865695, 0.36055747, -0.49575418, -0.3732...</td>\n",
       "      <td>[0.0, 0.0, 0.0, 0.0, 0.0, 0.0, 0.0, 0.0, 0.0, ...</td>\n",
       "      <td>[[tensor(0.1687), tensor(0.3606), tensor(-0.49...</td>\n",
       "    </tr>\n",
       "    <tr>\n",
       "      <th>4</th>\n",
       "      <td>The person who wrote the review \"enough with t...</td>\n",
       "      <td>1</td>\n",
       "      <td>person wrote review enough sweating spitting a...</td>\n",
       "      <td>[[-0.079325594, 0.27384898, 0.07582834, 0.3497...</td>\n",
       "      <td>[0.0, 0.0, 0.0, 0.0, 0.0, 0.0, 0.0, 0.0, 0.0, ...</td>\n",
       "      <td>[[tensor(-0.0793), tensor(0.2738), tensor(0.07...</td>\n",
       "    </tr>\n",
       "  </tbody>\n",
       "</table>\n",
       "</div>"
      ],
      "text/plain": [
       "                                             message  label  \\\n",
       "0  I saw this movie in NEW York city. I was waiti...      0   \n",
       "1  This is a German film from 1974 that is someth...      0   \n",
       "2  I attempted watching this movie twice and even...      0   \n",
       "3  On his birthday a small boys tells his mother ...      0   \n",
       "4  The person who wrote the review \"enough with t...      1   \n",
       "\n",
       "                                              tokens  \\\n",
       "0  saw movie new york city waiting bus next morni...   \n",
       "1  german film something woman come castle beyond...   \n",
       "2  attempted watching movie twice even fast forwa...   \n",
       "3  birthday small boy tell mother son want go hom...   \n",
       "4  person wrote review enough sweating spitting a...   \n",
       "\n",
       "                                             vectors  \\\n",
       "0  [[0.17053513, 0.044531778, -0.5490574, -0.4508...   \n",
       "1  [[-0.2837934, 0.1716008, -0.071153946, -0.3870...   \n",
       "2  [[-0.015660213, 0.0361225, 0.23330258, 0.34803...   \n",
       "3  [[0.16865695, 0.36055747, -0.49575418, -0.3732...   \n",
       "4  [[-0.079325594, 0.27384898, 0.07582834, 0.3497...   \n",
       "\n",
       "                                               tfidf  \\\n",
       "0  [0.0, 0.0, 0.0, 0.0, 0.0, 0.0, 0.0, 0.0, 0.0, ...   \n",
       "1  [0.0, 0.0, 0.0, 0.0, 0.0, 0.0, 0.0, 0.0, 0.0, ...   \n",
       "2  [0.0, 0.0, 0.0, 0.0, 0.0, 0.0, 0.0, 0.0, 0.0, ...   \n",
       "3  [0.0, 0.0, 0.0, 0.0, 0.0, 0.0, 0.0, 0.0, 0.0, ...   \n",
       "4  [0.0, 0.0, 0.0, 0.0, 0.0, 0.0, 0.0, 0.0, 0.0, ...   \n",
       "\n",
       "                                              tensor  \n",
       "0  [[tensor(0.1705), tensor(0.0445), tensor(-0.54...  \n",
       "1  [[tensor(-0.2838), tensor(0.1716), tensor(-0.0...  \n",
       "2  [[tensor(-0.0157), tensor(0.0361), tensor(0.23...  \n",
       "3  [[tensor(0.1687), tensor(0.3606), tensor(-0.49...  \n",
       "4  [[tensor(-0.0793), tensor(0.2738), tensor(0.07...  "
      ]
     },
     "execution_count": 113,
     "metadata": {},
     "output_type": "execute_result"
    }
   ],
   "source": [
    "train_data.head()"
   ]
  },
  {
   "cell_type": "code",
   "execution_count": 67,
   "metadata": {},
   "outputs": [
    {
     "name": "stdout",
     "output_type": "stream",
     "text": [
      "torch.Size([25000, 119, 100])\n",
      "torch.Size([25000])\n",
      "torch.Size([25000, 5000])\n"
     ]
    }
   ],
   "source": [
    "X_wtov = torch.stack(train_data['tensor'].tolist())\n",
    "X_tfidf = torch.tensor(X_train_tfidf, dtype=torch.float32)\n",
    "y = torch.tensor(train_data['label'].values)\n",
    "\n",
    "print(X_wtov.shape)\n",
    "print(y.shape)\n",
    "print(X_tfidf.shape)"
   ]
  },
  {
   "cell_type": "markdown",
   "metadata": {
    "id": "qZgX52qizr3j"
   },
   "source": [
    "## Models"
   ]
  },
  {
   "cell_type": "code",
   "execution_count": 61,
   "metadata": {
    "id": "w0khd9AlzZBt"
   },
   "outputs": [],
   "source": [
    "class LSTM(nn.Module):\n",
    "    def __init__(self, input_size, hidden_size, output_size, num_layers=1, type_='wtov'):\n",
    "        super(LSTM, self).__init__()\n",
    "        self.type_ = type_\n",
    "        self.lstm = nn.LSTM(input_size, hidden_size, num_layers, batch_first=True)\n",
    "        self.fc = nn.Linear(hidden_size, output_size)\n",
    "        self.softmax = nn.Softmax(dim=1)\n",
    "\n",
    "    def forward(self, x):\n",
    "        if self.type_ == 'tfidf':\n",
    "            x = x.unsqueeze(1)\n",
    "        _, (hidden, _) = self.lstm(x)  \n",
    "        hidden = hidden[-1]\n",
    "        out = self.fc(hidden)\n",
    "        return out"
   ]
  },
  {
   "cell_type": "code",
   "execution_count": 48,
   "metadata": {
    "id": "Xt1QgN7q0DDd"
   },
   "outputs": [],
   "source": [
    "class RNN(nn.Module):\n",
    "    def __init__(self, input_size, hidden_size, output_size, num_layers):\n",
    "        super(RNN, self).__init__()\n",
    "        self.rnn = nn.RNN(input_size, hidden_size, num_layers, batch_first=True)\n",
    "        self.fc = nn.Linear(hidden_size, output_size)\n",
    "\n",
    "    def forward(self, x):\n",
    "        _, hidden = self.rnn(x) \n",
    "        hidden = hidden[-1] \n",
    "        out = self.fc(hidden)\n",
    "        return out"
   ]
  },
  {
   "cell_type": "code",
   "execution_count": 49,
   "metadata": {
    "id": "m7CfEr5y0Pgh"
   },
   "outputs": [],
   "source": [
    "class GRU(nn.Module):\n",
    "    def __init__(self, input_size, hidden_size, output_size, num_layers):\n",
    "        super(GRU, self).__init__()\n",
    "        self.gru = nn.GRU(input_size, hidden_size, num_layers, batch_first=True)\n",
    "        self.fc = nn.Linear(hidden_size, output_size)\n",
    "\n",
    "    def forward(self, x):\n",
    "        _, hidden = self.gru(x)\n",
    "        hidden = hidden[-1]\n",
    "        out = self.fc(hidden)\n",
    "        return out"
   ]
  },
  {
   "cell_type": "markdown",
   "metadata": {
    "id": "uBVBZnBm2JoO"
   },
   "source": [
    "## Training Function\n",
    "This function is designed to train all three models efficiently and streamline the process for the user."
   ]
  },
  {
   "cell_type": "code",
   "execution_count": 174,
   "metadata": {
    "id": "B0DnyQLO2M2F"
   },
   "outputs": [],
   "source": [
    "def train(model, optimizer, loss_f, num_epochs, train_loader):\n",
    "    losses = []\n",
    "    \n",
    "    for epoch in range(num_epochs):\n",
    "        model.train()\n",
    "        epoch_loss = 0\n",
    "        for inputs, labels in train_loader:\n",
    "            labels = labels.long()\n",
    "            outputs = model(inputs)\n",
    "            loss = loss_f(outputs, labels)\n",
    "            optimizer.zero_grad()\n",
    "            loss.backward()\n",
    "            optimizer.step()\n",
    "\n",
    "            epoch_loss += loss.item()\n",
    "\n",
    "        avg_loss = epoch_loss / len(train_loader)\n",
    "        losses.append(avg_loss)\n",
    "\n",
    "        print(f\"Epoch {epoch+1}/{num_epochs}, Loss: {avg_loss}\")\n",
    "    \n",
    "    return losses"
   ]
  },
  {
   "cell_type": "markdown",
   "metadata": {},
   "source": [
    "## Evaluate Accuracy Function"
   ]
  },
  {
   "cell_type": "code",
   "execution_count": 82,
   "metadata": {},
   "outputs": [],
   "source": [
    "# def evaluate(model, test_loader):\n",
    "#     model.eval()\n",
    "#     correct = 0\n",
    "#     total = 0\n",
    "#     with torch.no_grad():\n",
    "#         for inputs, labels in test_loader:\n",
    "#             outputs = model(inputs)\n",
    "#             _, predicted = torch.max(outputs, 1)\n",
    "#             correct += (predicted == labels).sum().item()\n",
    "#             total += labels.size(0)\n",
    "#     accuracy = correct / total\n",
    "#     return accuracy\n",
    "\n",
    "\n",
    "def evaluate(model, test_loader):\n",
    "    model.eval()\n",
    "    correct = 0\n",
    "    total = 0\n",
    "    all_labels = []        \n",
    "    all_predictions = [] \n",
    "    \n",
    "    with torch.no_grad():\n",
    "        for inputs, labels in test_loader:\n",
    "            # inputs, labels = inputs.to(device), labels.to(device)\n",
    "            outputs = model(inputs)\n",
    "            _, predicted = torch.max(outputs, 1)\n",
    "            correct += (predicted == labels).sum().item()\n",
    "            total += labels.size(0)\n",
    "            \n",
    "            all_labels.extend(labels.cpu().numpy())\n",
    "            all_predictions.extend(predicted.cpu().numpy())\n",
    "\n",
    "    accuracy = correct / total\n",
    "\n",
    "    return accuracy, all_labels, all_predictions"
   ]
  },
  {
   "cell_type": "markdown",
   "metadata": {},
   "source": [
    "## Dividing the data"
   ]
  },
  {
   "cell_type": "markdown",
   "metadata": {},
   "source": [
    "### Word 2 Vec"
   ]
  },
  {
   "cell_type": "code",
   "execution_count": 55,
   "metadata": {},
   "outputs": [
    {
     "name": "stdout",
     "output_type": "stream",
     "text": [
      "625\n",
      "157\n"
     ]
    }
   ],
   "source": [
    "from torch.utils.data import DataLoader, TensorDataset, random_split\n",
    "\n",
    "dataset_wtov = TensorDataset(X_wtov, y)\n",
    "\n",
    "train_size = int(0.8 * len(dataset))  # 80% para entrenamiento\n",
    "test_size = len(dataset) - train_size\n",
    "train_dataset, test_dataset = random_split(dataset, [train_size, test_size])\n",
    "\n",
    "batch_size = 32\n",
    "train_loader_wtov = DataLoader(train_dataset, batch_size=batch_size, shuffle=True)\n",
    "test_loader_wtov = DataLoader(test_dataset, batch_size=batch_size, shuffle=False)\n",
    "\n",
    "print(len(train_loader_wtov)) \n",
    "print(len(test_loader_wtov)) "
   ]
  },
  {
   "cell_type": "markdown",
   "metadata": {},
   "source": [
    "### TF-IDF"
   ]
  },
  {
   "cell_type": "code",
   "execution_count": 68,
   "metadata": {},
   "outputs": [
    {
     "name": "stdout",
     "output_type": "stream",
     "text": [
      "625\n",
      "157\n"
     ]
    }
   ],
   "source": [
    "dataset_tfidf = TensorDataset(X_tfidf, y)\n",
    "\n",
    "train_dataset_tfidf, test_dataset_tfidf = random_split(dataset_tfidf, [train_size, test_size])\n",
    "\n",
    "batch_size = 32\n",
    "train_loader_tfidf = DataLoader(train_dataset_tfidf, batch_size=batch_size, shuffle=True)\n",
    "test_loader_tfidf = DataLoader(test_dataset_tfidf, batch_size=batch_size, shuffle=False)\n",
    "\n",
    "print(len(train_loader_tfidf))\n",
    "print(len(test_loader_tfidf))"
   ]
  },
  {
   "cell_type": "markdown",
   "metadata": {
    "id": "XVpOmemB2zFO"
   },
   "source": [
    "## Train the models"
   ]
  },
  {
   "cell_type": "markdown",
   "metadata": {
    "id": "kx-9iIXkzy5H"
   },
   "source": [
    "### LSTM"
   ]
  },
  {
   "cell_type": "markdown",
   "metadata": {},
   "source": [
    "#### Word2Vec"
   ]
  },
  {
   "cell_type": "markdown",
   "metadata": {},
   "source": [
    "Experiment with the hyperparameters"
   ]
  },
  {
   "cell_type": "code",
   "execution_count": 95,
   "metadata": {},
   "outputs": [],
   "source": [
    "# Función de búsqueda en cuadrícula de hiperparámetros\n",
    "def grid_search(param_grid):\n",
    "    best_accuracy = 0\n",
    "    best_params = {}\n",
    "\n",
    "    # Iterar sobre todas las combinaciones posibles de hiperparámetros\n",
    "    for hidden_size in param_grid['hidden_size']:\n",
    "        for learning_rate in param_grid['learning_rate']:\n",
    "            for batch_size in param_grid['batch_size']:\n",
    "                for num_epochs in param_grid['num_epochs']:\n",
    "\n",
    "                    # Crear DataLoader con el tamaño de batch actual\n",
    "                    train_loader = DataLoader(train_dataset, batch_size=batch_size, shuffle=True)\n",
    "                    test_loader = DataLoader(test_dataset, batch_size=batch_size, shuffle=False)\n",
    "\n",
    "                    # Inicializar el modelo LSTM con los parámetros actuales\n",
    "                    model = LSTM(input_size=100, hidden_size=hidden_size, output_size=2)\n",
    "\n",
    "                    # Inicializar la función de pérdida y el optimizador\n",
    "                    loss_function_LSTM = torch.nn.CrossEntropyLoss()\n",
    "                    optimizer = torch.optim.Adam(model.parameters(), lr=learning_rate)\n",
    "\n",
    "                    # # Entrenar el modelo\n",
    "                    # print(f\"Entrenando con hidden_size={hidden_size}, num_layers={num_layers}, \"\n",
    "                    #         f\"learning_rate={learning_rate}, batch_size={batch_size}, num_epochs={num_epochs}\")\n",
    "                    losses = train(model, optimizer, loss_function_LSTM, num_epochs, train_loader)\n",
    "\n",
    "                    # Evaluar el modelo\n",
    "                    accuracy, _, _ = evaluate(model, test_loader)\n",
    "                    print(f\"Accuracy con hidden_size={hidden_size}, learning_rate={learning_rate}, batch_size={batch_size}, num_epochs={num_epochs}: {accuracy * 100:.2f}%\")\n",
    "\n",
    "                    # Guardar la mejor configuración\n",
    "                    if accuracy > best_accuracy:\n",
    "                        best_accuracy = accuracy\n",
    "                        best_params = {\n",
    "                            'hidden_size': hidden_size,\n",
    "                            'learning_rate': learning_rate,\n",
    "                            'batch_size': batch_size,\n",
    "                            'num_epochs': num_epochs\n",
    "                        }\n",
    "    \n",
    "    return best_accuracy, best_params"
   ]
  },
  {
   "cell_type": "code",
   "execution_count": 96,
   "metadata": {},
   "outputs": [
    {
     "name": "stdout",
     "output_type": "stream",
     "text": [
      "Accuracy con hidden_size=64, learning_rate=0.001, batch_size=64, num_epochs=10: 85.56%\n",
      "Accuracy con hidden_size=64, learning_rate=0.001, batch_size=64, num_epochs=20: 86.76%\n",
      "Accuracy con hidden_size=64, learning_rate=0.001, batch_size=64, num_epochs=30: 86.54%\n",
      "Accuracy con hidden_size=64, learning_rate=0.001, batch_size=128, num_epochs=10: 77.46%\n",
      "Accuracy con hidden_size=64, learning_rate=0.001, batch_size=128, num_epochs=20: 86.74%\n",
      "Accuracy con hidden_size=64, learning_rate=0.001, batch_size=128, num_epochs=30: 85.78%\n",
      "Accuracy con hidden_size=64, learning_rate=0.0005, batch_size=64, num_epochs=10: 84.70%\n",
      "Accuracy con hidden_size=64, learning_rate=0.0005, batch_size=64, num_epochs=20: 53.90%\n",
      "Accuracy con hidden_size=64, learning_rate=0.0005, batch_size=64, num_epochs=30: 85.86%\n",
      "Accuracy con hidden_size=64, learning_rate=0.0005, batch_size=128, num_epochs=10: 54.26%\n",
      "Accuracy con hidden_size=64, learning_rate=0.0005, batch_size=128, num_epochs=20: 86.28%\n",
      "Accuracy con hidden_size=64, learning_rate=0.0005, batch_size=128, num_epochs=30: 86.58%\n",
      "Accuracy con hidden_size=64, learning_rate=0.0001, batch_size=64, num_epochs=10: 53.96%\n",
      "Accuracy con hidden_size=64, learning_rate=0.0001, batch_size=64, num_epochs=20: 85.48%\n",
      "Accuracy con hidden_size=64, learning_rate=0.0001, batch_size=64, num_epochs=30: 85.54%\n",
      "Accuracy con hidden_size=64, learning_rate=0.0001, batch_size=128, num_epochs=10: 82.62%\n",
      "Accuracy con hidden_size=64, learning_rate=0.0001, batch_size=128, num_epochs=20: 85.42%\n",
      "Accuracy con hidden_size=64, learning_rate=0.0001, batch_size=128, num_epochs=30: 85.08%\n",
      "Accuracy con hidden_size=128, learning_rate=0.001, batch_size=64, num_epochs=10: 86.48%\n",
      "Accuracy con hidden_size=128, learning_rate=0.001, batch_size=64, num_epochs=20: 86.88%\n",
      "Accuracy con hidden_size=128, learning_rate=0.001, batch_size=64, num_epochs=30: 86.74%\n",
      "Accuracy con hidden_size=128, learning_rate=0.001, batch_size=128, num_epochs=10: 54.08%\n",
      "Accuracy con hidden_size=128, learning_rate=0.001, batch_size=128, num_epochs=20: 86.68%\n",
      "Accuracy con hidden_size=128, learning_rate=0.001, batch_size=128, num_epochs=30: 86.54%\n",
      "Accuracy con hidden_size=128, learning_rate=0.0005, batch_size=64, num_epochs=10: 53.50%\n",
      "Accuracy con hidden_size=128, learning_rate=0.0005, batch_size=64, num_epochs=20: 54.74%\n",
      "Accuracy con hidden_size=128, learning_rate=0.0005, batch_size=64, num_epochs=30: 87.10%\n",
      "Accuracy con hidden_size=128, learning_rate=0.0005, batch_size=128, num_epochs=10: 54.28%\n",
      "Accuracy con hidden_size=128, learning_rate=0.0005, batch_size=128, num_epochs=20: 76.80%\n",
      "Accuracy con hidden_size=128, learning_rate=0.0005, batch_size=128, num_epochs=30: 60.06%\n",
      "Accuracy con hidden_size=128, learning_rate=0.0001, batch_size=64, num_epochs=10: 84.26%\n",
      "Accuracy con hidden_size=128, learning_rate=0.0001, batch_size=64, num_epochs=20: 85.42%\n",
      "Accuracy con hidden_size=128, learning_rate=0.0001, batch_size=64, num_epochs=30: 85.88%\n",
      "Accuracy con hidden_size=128, learning_rate=0.0001, batch_size=128, num_epochs=10: 84.58%\n",
      "Accuracy con hidden_size=128, learning_rate=0.0001, batch_size=128, num_epochs=20: 85.80%\n",
      "Accuracy con hidden_size=128, learning_rate=0.0001, batch_size=128, num_epochs=30: 85.96%\n",
      "Accuracy con hidden_size=256, learning_rate=0.001, batch_size=64, num_epochs=10: 85.44%\n",
      "Accuracy con hidden_size=256, learning_rate=0.001, batch_size=64, num_epochs=20: 86.40%\n",
      "Accuracy con hidden_size=256, learning_rate=0.001, batch_size=64, num_epochs=30: 86.80%\n",
      "Accuracy con hidden_size=256, learning_rate=0.001, batch_size=128, num_epochs=10: 55.02%\n",
      "Accuracy con hidden_size=256, learning_rate=0.001, batch_size=128, num_epochs=20: 84.62%\n",
      "Accuracy con hidden_size=256, learning_rate=0.001, batch_size=128, num_epochs=30: 84.08%\n",
      "Accuracy con hidden_size=256, learning_rate=0.0005, batch_size=64, num_epochs=10: 57.18%\n",
      "Accuracy con hidden_size=256, learning_rate=0.0005, batch_size=64, num_epochs=20: 86.02%\n",
      "Accuracy con hidden_size=256, learning_rate=0.0005, batch_size=64, num_epochs=30: 86.16%\n",
      "Accuracy con hidden_size=256, learning_rate=0.0005, batch_size=128, num_epochs=10: 53.98%\n",
      "Accuracy con hidden_size=256, learning_rate=0.0005, batch_size=128, num_epochs=20: 75.34%\n",
      "Accuracy con hidden_size=256, learning_rate=0.0005, batch_size=128, num_epochs=30: 53.18%\n",
      "Accuracy con hidden_size=256, learning_rate=0.0001, batch_size=64, num_epochs=10: 84.58%\n",
      "Accuracy con hidden_size=256, learning_rate=0.0001, batch_size=64, num_epochs=20: 54.76%\n",
      "Accuracy con hidden_size=256, learning_rate=0.0001, batch_size=64, num_epochs=30: 86.84%\n",
      "Accuracy con hidden_size=256, learning_rate=0.0001, batch_size=128, num_epochs=10: 85.18%\n",
      "Accuracy con hidden_size=256, learning_rate=0.0001, batch_size=128, num_epochs=20: 85.64%\n",
      "Accuracy con hidden_size=256, learning_rate=0.0001, batch_size=128, num_epochs=30: 85.62%\n",
      "\n",
      "Mejores parámetros: {'hidden_size': 128, 'learning_rate': 0.0005, 'batch_size': 64, 'num_epochs': 30}\n",
      "Mejor Accuracy: 87.10%\n"
     ]
    }
   ],
   "source": [
    "# Parámetros para la búsqueda en cuadrícula\n",
    "param_grid = {\n",
    "    'hidden_size': [64, 128, 256],              # Diferentes tamaños de la capa oculta\n",
    "    'learning_rate': [0.001, 0.0005, 0.0001],   # Diferentes tasas de aprendizaje\n",
    "    'batch_size': [64, 128],                    # Tamaño del batch\n",
    "    'num_epochs': [10, 20, 30]                  # Número de épocas para entrenar\n",
    "}\n",
    "\n",
    "# Realizar búsqueda en cuadrícula\n",
    "best_accuracy, best_params = grid_search(param_grid)\n",
    "\n",
    "# Imprimir los mejores parámetros y la precisión\n",
    "print(f\"\\nMejores parámetros: {best_params}\")\n",
    "print(f\"Mejor Accuracy: {best_accuracy * 100:.2f}%\")"
   ]
  },
  {
   "cell_type": "markdown",
   "metadata": {},
   "source": [
    "Testing with best Hyperparameters"
   ]
  },
  {
   "cell_type": "code",
   "execution_count": null,
   "metadata": {},
   "outputs": [],
   "source": [
    "num_epochs = 10\n",
    "learning_rate = 0.001\n",
    "input_size_w2v = 100 # word2vec.vector_size\n",
    "hidden_size = 128\n",
    "output_size = 2\n",
    "num_layers = 1  \n",
    "\n",
    "input_size_tfidf = 5000 # X_tfidf.shape[1]\n",
    "\n",
    "# num_epochs = best_params['num_epochs']\n",
    "# learning_rate = best_params['learning_rate']\n",
    "# input_size_w2v = 100 # word2vec.vector_size\n",
    "# hidden_size = best_params['hidden_size']\n",
    "# batch_size = best_params['batch_size']\n",
    "# output_size = 2\n",
    "# num_layers = 1  \n",
    "\n",
    "# train_loader_wtov = DataLoader(train_dataset, batch_size=batch_size, shuffle=True)\n",
    "# test_loader_wtov = DataLoader(test_dataset, batch_size=batch_size, shuffle=False)\n",
    "\n",
    "# input_size_tfidf = 5000 # X_tfidf.shape[1]"
   ]
  },
  {
   "cell_type": "code",
   "execution_count": 175,
   "metadata": {
    "id": "WseHCZ_J2352"
   },
   "outputs": [
    {
     "name": "stdout",
     "output_type": "stream",
     "text": [
      "Epoch 1/30, Loss: 0.6822928310202333\n",
      "Epoch 2/30, Loss: 0.6749649981911571\n",
      "Epoch 3/30, Loss: 0.6748955795368828\n",
      "Epoch 4/30, Loss: 0.6741439753447097\n",
      "Epoch 5/30, Loss: 0.6708131935268926\n",
      "Epoch 6/30, Loss: 0.6357719034623033\n",
      "Epoch 7/30, Loss: 0.6512413084887849\n",
      "Epoch 8/30, Loss: 0.6562978317752813\n",
      "Epoch 9/30, Loss: 0.6754323537357318\n",
      "Epoch 10/30, Loss: 0.6793715771013936\n",
      "Epoch 11/30, Loss: 0.6422667365295057\n",
      "Epoch 12/30, Loss: 0.6792931629065126\n",
      "Epoch 13/30, Loss: 0.6933708348975014\n",
      "Epoch 14/30, Loss: 0.66743991283563\n",
      "Epoch 15/30, Loss: 0.6265930302988607\n",
      "Epoch 16/30, Loss: 0.648325292732769\n",
      "Epoch 17/30, Loss: 0.5246225122255258\n",
      "Epoch 18/30, Loss: 0.40192280009912607\n",
      "Epoch 19/30, Loss: 0.35094482125565646\n",
      "Epoch 20/30, Loss: 0.34145964463107503\n",
      "Epoch 21/30, Loss: 0.3237839684890101\n",
      "Epoch 22/30, Loss: 0.31795908486881197\n",
      "Epoch 23/30, Loss: 0.31397024720621564\n",
      "Epoch 24/30, Loss: 0.30787064254093477\n",
      "Epoch 25/30, Loss: 0.3054917052911874\n",
      "Epoch 26/30, Loss: 0.3021538995515805\n",
      "Epoch 27/30, Loss: 0.2958467878377476\n",
      "Epoch 28/30, Loss: 0.2965371564935191\n",
      "Epoch 29/30, Loss: 0.2911232775345016\n",
      "Epoch 30/30, Loss: 0.28771638160886853\n",
      "[0.6822928310202333, 0.6749649981911571, 0.6748955795368828, 0.6741439753447097, 0.6708131935268926, 0.6357719034623033, 0.6512413084887849, 0.6562978317752813, 0.6754323537357318, 0.6793715771013936, 0.6422667365295057, 0.6792931629065126, 0.6933708348975014, 0.66743991283563, 0.6265930302988607, 0.648325292732769, 0.5246225122255258, 0.40192280009912607, 0.35094482125565646, 0.34145964463107503, 0.3237839684890101, 0.31795908486881197, 0.31397024720621564, 0.30787064254093477, 0.3054917052911874, 0.3021538995515805, 0.2958467878377476, 0.2965371564935191, 0.2911232775345016, 0.28771638160886853]\n"
     ]
    }
   ],
   "source": [
    "lstm = LSTM(input_size_w2v, hidden_size, output_size, num_layers)\n",
    "loss_function_LSTM = torch.nn.CrossEntropyLoss()\n",
    "optimizer = torch.optim.Adam(lstm.parameters(), lr=learning_rate)\n",
    "\n",
    "losses_w2v_lstm = train(lstm, optimizer, loss_function_LSTM, num_epochs, train_loader_wtov)\n",
    "\n",
    "print(losses_w2v_lstm)"
   ]
  },
  {
   "cell_type": "markdown",
   "metadata": {},
   "source": [
    "#### TF-IDF"
   ]
  },
  {
   "cell_type": "code",
   "execution_count": 75,
   "metadata": {},
   "outputs": [
    {
     "name": "stdout",
     "output_type": "stream",
     "text": [
      "Epoch 1/10, Loss: 0.3834376544117927\n",
      "Epoch 2/10, Loss: 0.22949714483618736\n",
      "Epoch 3/10, Loss: 0.19746896969676017\n",
      "Epoch 4/10, Loss: 0.1799872969508171\n",
      "Epoch 5/10, Loss: 0.1644196824491024\n",
      "Epoch 6/10, Loss: 0.15171217764914036\n",
      "Epoch 7/10, Loss: 0.14024721548855304\n",
      "Epoch 8/10, Loss: 0.12736473506987095\n",
      "Epoch 9/10, Loss: 0.11307105800509452\n",
      "Epoch 10/10, Loss: 0.09872271286398172\n",
      "[0.3834376544117927, 0.22949714483618736, 0.19746896969676017, 0.1799872969508171, 0.1644196824491024, 0.15171217764914036, 0.14024721548855304, 0.12736473506987095, 0.11307105800509452, 0.09872271286398172]\n"
     ]
    }
   ],
   "source": [
    "lstm_tfidf = LSTM(input_size_tfidf, hidden_size, output_size, num_layers, type_='tfidf')\n",
    "loss_function_LSTM = torch.nn.CrossEntropyLoss()\n",
    "optimizer = torch.optim.Adam(lstm_tfidf.parameters(), lr=learning_rate)\n",
    "\n",
    "losses_tfidf_lstm = train(lstm_tfidf, optimizer, loss_function_LSTM, num_epochs, train_loader_tfidf)\n",
    "\n",
    "print(losses_tfidf_lstm)"
   ]
  },
  {
   "cell_type": "markdown",
   "metadata": {
    "id": "58-CAWLi0DZ_"
   },
   "source": [
    "### RNN"
   ]
  },
  {
   "cell_type": "markdown",
   "metadata": {},
   "source": [
    "#### Word2Vec"
   ]
  },
  {
   "cell_type": "code",
   "execution_count": 78,
   "metadata": {
    "id": "nidEZSNC24h0"
   },
   "outputs": [
    {
     "name": "stdout",
     "output_type": "stream",
     "text": [
      "Epoch 1/10, Loss: 0.6807526525497436\n",
      "Epoch 2/10, Loss: 0.6984385432243347\n",
      "Epoch 3/10, Loss: 0.6887064885139466\n",
      "Epoch 4/10, Loss: 0.688634882068634\n",
      "Epoch 5/10, Loss: 0.6846405459403991\n",
      "Epoch 6/10, Loss: 0.6861972051620483\n",
      "Epoch 7/10, Loss: 0.6857281202316284\n",
      "Epoch 8/10, Loss: 0.6881315352439881\n",
      "Epoch 9/10, Loss: 0.6821457111358643\n",
      "Epoch 10/10, Loss: 0.6746736751556397\n",
      "[0.6807526525497436, 0.6984385432243347, 0.6887064885139466, 0.688634882068634, 0.6846405459403991, 0.6861972051620483, 0.6857281202316284, 0.6881315352439881, 0.6821457111358643, 0.6746736751556397]\n"
     ]
    }
   ],
   "source": [
    "rnn = RNN(input_size, hidden_size, output_size, num_layers)\n",
    "loss_function_RNN = torch.nn.CrossEntropyLoss()\n",
    "optimizer = torch.optim.Adam(rnn.parameters(), lr=learning_rate)\n",
    "losses_w2v_rnn = train(rnn, optimizer, loss_function_RNN, num_epochs, train_loader)\n",
    "\n",
    "print(losses_w2v_rnn)"
   ]
  },
  {
   "cell_type": "markdown",
   "metadata": {},
   "source": [
    "#### TF-IDF"
   ]
  },
  {
   "cell_type": "code",
   "execution_count": null,
   "metadata": {},
   "outputs": [],
   "source": []
  },
  {
   "cell_type": "markdown",
   "metadata": {},
   "source": [
    "#### Experiment with the hyperparameters"
   ]
  },
  {
   "cell_type": "code",
   "execution_count": null,
   "metadata": {},
   "outputs": [],
   "source": []
  },
  {
   "cell_type": "markdown",
   "metadata": {
    "id": "B-hX6-pp0OjD"
   },
   "source": [
    "### GRU"
   ]
  },
  {
   "cell_type": "markdown",
   "metadata": {},
   "source": [
    "#### Word2Vec"
   ]
  },
  {
   "cell_type": "code",
   "execution_count": 79,
   "metadata": {
    "id": "-_BAHe7a25N8"
   },
   "outputs": [
    {
     "name": "stdout",
     "output_type": "stream",
     "text": [
      "Epoch 1/10, Loss: 0.6593920402050019\n",
      "Epoch 2/10, Loss: 0.6683498323440552\n",
      "Epoch 3/10, Loss: 0.4005159907341003\n",
      "Epoch 4/10, Loss: 0.3268043298125267\n",
      "Epoch 5/10, Loss: 0.3097068729043007\n",
      "Epoch 6/10, Loss: 0.2995392607450485\n",
      "Epoch 7/10, Loss: 0.29028844405412674\n",
      "Epoch 8/10, Loss: 0.2838325895428658\n",
      "Epoch 9/10, Loss: 0.275965496468544\n",
      "Epoch 10/10, Loss: 0.26738104411959646\n",
      "[0.6593920402050019, 0.6683498323440552, 0.4005159907341003, 0.3268043298125267, 0.3097068729043007, 0.2995392607450485, 0.29028844405412674, 0.2838325895428658, 0.275965496468544, 0.26738104411959646]\n"
     ]
    }
   ],
   "source": [
    "gru = GRU(input_size, hidden_size, output_size, num_layers)\n",
    "loss_function_GRU = torch.nn.CrossEntropyLoss()\n",
    "optimizer = torch.optim.Adam(gru.parameters(), lr=learning_rate)\n",
    "losses_w2v_gru = train(gru, optimizer, loss_function_GRU, num_epochs, train_loader)\n",
    "\n",
    "print(losses_w2v_gru)"
   ]
  },
  {
   "cell_type": "markdown",
   "metadata": {},
   "source": [
    "#### TF-IDF"
   ]
  },
  {
   "cell_type": "code",
   "execution_count": null,
   "metadata": {},
   "outputs": [],
   "source": []
  },
  {
   "cell_type": "markdown",
   "metadata": {},
   "source": [
    "#### Experiment with the hyperparameters"
   ]
  },
  {
   "cell_type": "code",
   "execution_count": null,
   "metadata": {},
   "outputs": [],
   "source": []
  },
  {
   "cell_type": "markdown",
   "metadata": {},
   "source": [
    "## Test the models and metrics"
   ]
  },
  {
   "cell_type": "markdown",
   "metadata": {},
   "source": [
    "### LSTM"
   ]
  },
  {
   "cell_type": "code",
   "execution_count": 176,
   "metadata": {},
   "outputs": [
    {
     "name": "stdout",
     "output_type": "stream",
     "text": [
      "Accuracy LSTM word2vec: 86.70%\n",
      "Accuracy LSTM tfidf: 84.66%\n"
     ]
    }
   ],
   "source": [
    "accuracy_w2v_lstm, labels_w2v_lstm, predictions_w2c_lstm = evaluate(lstm, test_loader_wtov)\n",
    "print(f'Accuracy LSTM word2vec: {accuracy_w2v_lstm * 100:.2f}%')\n",
    "\n",
    "accuracy_tfidf_lstm, labels_tfidf_lstm, predictions_tfidf_lstm = evaluate(lstm_tfidf, test_loader_tfidf)\n",
    "print(f'Accuracy LSTM tfidf: {accuracy_tfidf_lstm * 100:.2f}%')"
   ]
  },
  {
   "cell_type": "code",
   "execution_count": 178,
   "metadata": {},
   "outputs": [
    {
     "name": "stdout",
     "output_type": "stream",
     "text": [
      "Accuracy: 0.8670\n",
      "Classification Report:\n",
      "              precision    recall  f1-score   support\n",
      "\n",
      "         neg       0.90      0.82      0.86      2523\n",
      "         pos       0.83      0.91      0.87      2477\n",
      "\n",
      "    accuracy                           0.86      5000\n",
      "   macro avg       0.87      0.86      0.86      5000\n",
      "weighted avg       0.87      0.86      0.86      5000\n",
      "\n"
     ]
    },
    {
     "data": {
      "image/png": "[encoded data removed]",
      "text/plain": [
       "<Figure size 800x600 with 2 Axes>"
      ]
     },
     "metadata": {},
     "output_type": "display_data"
    },
    {
     "data": {
      "image/png": "[encoded data removed]",
      "text/plain": [
       "<Figure size 640x480 with 1 Axes>"
      ]
     },
     "metadata": {},
     "output_type": "display_data"
    }
   ],
   "source": [
    "import seaborn as sns\n",
    "from sklearn.metrics import accuracy_score, classification_report, confusion_matrix\n",
    "\n",
    "accuracy_w2v_lstm = accuracy_score(labels_w2v_lstm, predictions_w2c_lstm)\n",
    "class_report_w2v_lstm = classification_report(labels_w2v_lstm, predictions_w2c_lstm, target_names=label_encoder.classes_)\n",
    "cm_w2v_lstm = confusion_matrix(labels_w2v_lstm, predictions_w2c_lstm)\n",
    "\n",
    "print(f'Accuracy: {accuracy_w2v_lstm:.4f}')\n",
    "print('Classification Report:')\n",
    "print(class_report)\n",
    "\n",
    "# Graficar la matriz de confusión con seaborn\n",
    "plt.figure(figsize=(8, 6))\n",
    "sns.heatmap(cm_w2v_lstm, annot=True, fmt='d', cmap='Reds', xticklabels=label_encoder.classes_, yticklabels=label_encoder.classes_)\n",
    "plt.title('Confusion Matrix')\n",
    "plt.xlabel('Predicted')\n",
    "plt.ylabel('True')\n",
    "plt.show()\n",
    "\n",
    "# Graficar la pérdida a lo largo del tiempo\n",
    "plt.plot(losses_w2v_lstm, label='Train Loss')\n",
    "plt.title('Loss over Time')\n",
    "plt.xlabel('Epochs')\n",
    "plt.ylabel('Loss')\n",
    "plt.legend()\n",
    "plt.show()"
   ]
  },
  {
   "cell_type": "code",
   "execution_count": 139,
   "metadata": {},
   "outputs": [
    {
     "data": {
      "text/plain": [
       "54"
      ]
     },
     "execution_count": 139,
     "metadata": {},
     "output_type": "execute_result"
    }
   ],
   "source": [
    "len(data['accuracy'])"
   ]
  },
  {
   "cell_type": "code",
   "execution_count": 170,
   "metadata": {},
   "outputs": [
    {
     "name": "stderr",
     "output_type": "stream",
     "text": [
      "C:\\Users\\jeffr\\AppData\\Local\\Temp\\ipykernel_15864\\3060315513.py:119: UserWarning: This figure includes Axes that are not compatible with tight_layout, so results might be incorrect.\n",
      "  plt.tight_layout()\n"
     ]
    },
    {
     "data": {
      "image/png": "[encoded data removed]",
      "text/plain": [
       "<Figure size 1200x1800 with 4 Axes>"
      ]
     },
     "metadata": {},
     "output_type": "display_data"
    }
   ],
   "source": [
    "import pandas as pd\n",
    "import numpy as np\n",
    "import matplotlib.pyplot as plt\n",
    "from mpl_toolkits.mplot3d import Axes3D\n",
    "\n",
    "# Datos (como ejemplo, usa los datos que proporcionaste)\n",
    "data = {\n",
    "    'hidden_size': [\n",
    "        64, 64, 64, 64, 64, 64, 64, 64, 64, 64, 64, 64, 64, 64, 64, 64, 64, 64,\n",
    "        128, 128, 128, 128, 128, 128, 128, 128, 128, 128, 128, 128, 128, 128, 128, 128, 128, 128,\n",
    "        256, 256, 256, 256, 256, 256, 256, 256, 256, 256, 256, 256, 256, 256, 256, 256, 256, 256\n",
    "    ],\n",
    "    'learning_rate': [\n",
    "        0.001, 0.001, 0.001, 0.001, 0.001, 0.001, \n",
    "        0.0005, 0.0005, 0.0005, 0.0005, 0.0005, 0.0005,\n",
    "        0.0001, 0.0001, 0.0001, 0.0001, 0.0001, 0.0001,\n",
    "        0.001, 0.001, 0.001, 0.001, 0.001, 0.001, \n",
    "        0.0005, 0.0005, 0.0005, 0.0005, 0.0005, 0.0005, \n",
    "        0.0001, 0.0001, 0.0001, 0.0001, 0.0001, 0.0001, \n",
    "        0.001, 0.001, 0.001, 0.001, 0.001, 0.001, \n",
    "        0.0005, 0.0005, 0.0005, 0.0005, 0.0005, 0.0005,\n",
    "        0.0001, 0.0001, 0.0001, 0.0001, 0.0001, 0.0001\n",
    "    ],\n",
    "    'batch_size': [\n",
    "        64, 64, 64, \n",
    "        128, 128, 128, \n",
    "        64, 64, 64, \n",
    "        128, 128, 128, \n",
    "        64, 64, 64,\n",
    "        128, 128, 128, \n",
    "        64, 64, 64, \n",
    "        128, 128, 128, \n",
    "        64, 64, 64, \n",
    "        128, 128, 128, \n",
    "        64, 64, 64, \n",
    "        128, 128, 128, \n",
    "        64, 64, 64, \n",
    "        128, 128, 128, \n",
    "        64, 64, 64,\n",
    "        128, 128, 128,\n",
    "        64, 64, 64,\n",
    "        128, 128, 128,\n",
    "    ],\n",
    "    'num_epochs': [\n",
    "        10, 20, 30, \n",
    "        10, 20, 30, \n",
    "        10, 20, 30, \n",
    "        10, 20, 30, \n",
    "        10, 20, 30, \n",
    "        10, 20, 30, \n",
    "        10, 20, 30, \n",
    "        10, 20, 30, \n",
    "        10, 20, 30, \n",
    "        10, 20, 30, \n",
    "        10, 20, 30, \n",
    "        10, 20, 30, \n",
    "        10, 20, 30, \n",
    "        10, 20, 30, \n",
    "        10, 20, 30,\n",
    "        10, 20, 30, \n",
    "        10, 20, 30, \n",
    "        10, 20, 30, \n",
    "    ],\n",
    "    'accuracy': [\n",
    "        85.56, 86.76, 86.54, 77.46, 86.74, 85.78, 84.70, 53.90, 85.86, 54.26, \n",
    "        86.28, 86.58, 53.96, 85.48, 85.54, 82.62, 85.42, 85.08, 86.48, 86.88, \n",
    "        86.74, 54.08, 86.68, 86.54, 53.50, 54.74, 87.10, 54.28, 76.80, \n",
    "        60.06, 84.26, 85.42, 85.88, 84.58, 85.80, 85.96, 85.44, 86.40, \n",
    "        86.80, 55.02, 84.62, 84.08, 57.18, 86.02, 86.16, 53.98, 75.34, \n",
    "        53.18, 84.58, 54.76, 86.84, 85.18, 85.64, 85.62\n",
    "    ]\n",
    "}\n",
    "\n",
    "\n",
    "# Crear DataFrame\n",
    "df = pd.DataFrame(data)\n",
    "\n",
    "# Filtrar por valores de num_epochs\n",
    "df_10 = df[df['num_epochs'] == 10]\n",
    "df_20 = df[df['num_epochs'] == 20]\n",
    "df_30 = df[df['num_epochs'] == 30]\n",
    "\n",
    "# Crear la figura para los 3 gráficos\n",
    "fig = plt.figure(figsize=(12, 18))  # Ajustar tamaño de la figura\n",
    "\n",
    "\n",
    "# Primer gráfico para num_epochs = 10\n",
    "ax1 = fig.add_subplot(231, projection='3d')\n",
    "sc1 = ax1.scatter(df_10['hidden_size'], df_10['learning_rate'], df_10['batch_size'], c=df_10['accuracy'], cmap='viridis', s=60)\n",
    "ax1.set_xlabel('hidden_size')\n",
    "ax1.set_ylabel('learning_rate')\n",
    "ax1.set_zlabel('batch_size')\n",
    "ax1.set_title('num_epochs = 10')\n",
    "\n",
    "# Segundo gráfico para num_epochs = 20\n",
    "ax2 = fig.add_subplot(232, projection='3d')\n",
    "sc2 = ax2.scatter(df_20['hidden_size'], df_20['learning_rate'], df_20['batch_size'], c=df_20['accuracy'], cmap='viridis', s=60)\n",
    "ax2.set_xlabel('hidden_size')\n",
    "ax2.set_ylabel('learning_rate')\n",
    "ax2.set_zlabel('batch_size')\n",
    "ax2.set_title('num_epochs = 20')\n",
    "\n",
    "# Tercer gráfico para num_epochs = 30\n",
    "ax3 = fig.add_subplot(233, projection='3d')\n",
    "sc3 = ax3.scatter(df_30['hidden_size'], df_30['learning_rate'], df_30['batch_size'], c=df_30['accuracy'], cmap='viridis', s=60)\n",
    "ax3.set_xlabel('hidden_size')\n",
    "ax3.set_ylabel('learning_rate')\n",
    "ax3.set_zlabel('batch_size')\n",
    "ax3.set_title('num_epochs = 30')\n",
    "\n",
    "# Ajustar el layout de los gráficos\n",
    "# plt.subplots_adjust(left=0.1, right=0.9, top=0.9, bottom=0.15)\n",
    "\n",
    "# Añadir barra de colores común a los tres gráficos, y moverla a la parte inferior\n",
    "cbar = fig.colorbar(sc1, ax=[ax1, ax2, ax3], orientation='horizontal', pad=-0.7)\n",
    "cbar.set_label('Accuracy')\n",
    "\n",
    "# Ajustar el layout y mostrar\n",
    "plt.tight_layout()\n",
    "plt.show()\n"
   ]
  },
  {
   "cell_type": "markdown",
   "metadata": {},
   "source": [
    "### RNN"
   ]
  },
  {
   "cell_type": "code",
   "execution_count": 85,
   "metadata": {},
   "outputs": [
    {
     "name": "stdout",
     "output_type": "stream",
     "text": [
      "Accuracy RNN word2vec: 54.72%\n"
     ]
    }
   ],
   "source": [
    "accuracy_w2v_rnn, labels_w2v_rnn, predictions_w2c_rnn = evaluate(rnn, test_loader_wtov)\n",
    "print(f'Accuracy RNN word2vec: {accuracy_w2v_rnn * 100:.2f}%')"
   ]
  },
  {
   "cell_type": "markdown",
   "metadata": {},
   "source": [
    "### GRU"
   ]
  },
  {
   "cell_type": "code",
   "execution_count": 86,
   "metadata": {},
   "outputs": [
    {
     "name": "stdout",
     "output_type": "stream",
     "text": [
      "Accuracy GRU word2vec: 88.80%\n"
     ]
    }
   ],
   "source": [
    "accuracy_w2v_gru, labels_w2v_gru, predictions_w2c_gru = evaluate(gru, test_loader_wtov)\n",
    "print(f'Accuracy GRU word2vec: {accuracy_w2v_gru * 100:.2f}%')"
   ]
  }
 ],
 "metadata": {
  "colab": {
   "provenance": []
  },
  "kernelspec": {
   "display_name": "Python 3",
   "name": "python3"
  },
  "language_info": {
   "codemirror_mode": {
    "name": "ipython",
    "version": 3
   },
   "file_extension": ".py",
   "mimetype": "text/x-python",
   "name": "python",
   "nbconvert_exporter": "python",
   "pygments_lexer": "ipython3",
   "version": "3.12.7"
  }
 },
 "nbformat": 4,
 "nbformat_minor": 0
}
