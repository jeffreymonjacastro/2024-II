{
  "nbformat": 4,
  "nbformat_minor": 0,
  "metadata": {
    "colab": {
      "provenance": []
    },
    "kernelspec": {
      "name": "python3",
      "display_name": "Python 3"
    },
    "language_info": {
      "name": "python"
    }
  },
  "cells": [
    {
      "cell_type": "markdown",
      "source": [
        " # Topic 6: Dimensionality reduction\n",
        " ----\n",
        "  \n",
        "  University : UTEC \\\\\n",
        "  Course       : Machine Learning \\\\\n",
        "  Professor    : Cristian López Del Alamo \\\\\n",
        "  Topic        :  Dimensionality reduction \\\\\n",
        "\n",
        "   \n",
        "\n",
        " ----\n",
        "\n",
        "Write the names and surnames of the members and the percentage of participation of each one in the development of the practice:\n",
        " - Integrante 1: (%)\n",
        " - Integrante 2: (%)\n",
        " - Integrante 3: (%)\n",
        " - Integrante 4: (%)\n",
        "\n",
        "\n",
        " ----"
      ],
      "metadata": {
        "id": "E8uEr6_BYtpC"
      }
    },
    {
      "cell_type": "markdown",
      "source": [
        "# PCA: Eigen descomposition\n",
        "\n"
      ],
      "metadata": {
        "id": "_Apv2XjcBPzg"
      }
    },
    {
      "cell_type": "markdown",
      "source": [],
      "metadata": {
        "id": "xMBxgjUXYrIM"
      }
    },
    {
      "cell_type": "markdown",
      "source": [
        "In this practice your team will receive 2410 images grouped into 38 classes, where each class represents images of the face of the same person.\n",
        "\n",
        "- Remember the Egen decomposition: $M V= \\lambda V$\n",
        "- For this example: $faces*Eigenfaces = \\lambda Eigenfaces$\n",
        "- faces: It is a matrix where each row represents an image.\n",
        "- EigenFaces: They are the eigenvectors that are obtained after the egendecomposition.\n",
        "\n",
        "Below you are provided with the Load_data code that allows you to read the images from the file. This function returns the images in matrix form and their labels for subsequent classification tasks.\n",
        "\n",
        "Dataset: https://drive.google.com/file/d/1X8-AJiG0_qW08rx5l8u1Vs3cmx5W8ETj/view?usp=sharing"
      ],
      "metadata": {
        "id": "UDt3iBUDBWiT"
      }
    },
    {
      "cell_type": "code",
      "execution_count": null,
      "metadata": {
        "id": "eMyb4NDfyPiG",
        "colab": {
          "base_uri": "https://localhost:8080/"
        },
        "outputId": "d5734d0c-d325-42ce-c678-408d514d128e"
      },
      "outputs": [
        {
          "output_type": "stream",
          "name": "stdout",
          "text": [
            "Mounted at /content/drive/\n",
            "Total dataset size:\n",
            "n_samples: 2410\n",
            "n_features: 32256\n",
            "n_classes: 38\n"
          ]
        },
        {
          "output_type": "stream",
          "name": "stderr",
          "text": [
            "<ipython-input-1-bed233676ccf>:17: DeprecationWarning: Conversion of an array with ndim > 0 to a scalar is deprecated, and will error in future. Ensure you extract a single element from your array before performing this operation. (Deprecated NumPy 1.25.)\n",
            "  m = int(faces_m_format['m'])\n",
            "<ipython-input-1-bed233676ccf>:18: DeprecationWarning: Conversion of an array with ndim > 0 to a scalar is deprecated, and will error in future. Ensure you extract a single element from your array before performing this operation. (Deprecated NumPy 1.25.)\n",
            "  n = int(faces_m_format['n'])\n"
          ]
        }
      ],
      "source": [
        "import matplotlib.pyplot as plt\n",
        "import numpy as np\n",
        "import scipy.io\n",
        "import seaborn as sns\n",
        "\n",
        "\n",
        "\n",
        "from google.colab import drive\n",
        "drive.mount('/content/drive/')\n",
        "path = '/content/drive/MyDrive/UTEC/CURSOS/2024.1/MACHINE LEARNING/PRACTICA/DataSet/'\n",
        "\n",
        "\n",
        "\n",
        "def Load_data(file):\n",
        "  faces_m_format = scipy.io.loadmat(path + file)\n",
        "  faces = faces_m_format['faces']\n",
        "  m = int(faces_m_format['m'])\n",
        "  n = int(faces_m_format['n'])\n",
        "  nfaces = np.ndarray.flatten(faces_m_format['nfaces'])\n",
        "\n",
        "  y = np.zeros((faces.shape[1],))\n",
        "  j = 0\n",
        "  classes = list(range(len(nfaces)))\n",
        "  for i in nfaces:\n",
        "    y[j:j+i] = classes.pop(0)\n",
        "    j = j + i\n",
        "\n",
        "  print(\"Total dataset size:\")\n",
        "  print(f\"n_samples: {faces.shape[1]}\")\n",
        "  print(f\"n_features: {m*n}\")\n",
        "  print(f\"n_classes: {len(nfaces)}\")\n",
        "  return faces, y,m,n\n",
        "\n",
        "X,Y,m,n = Load_data('allFaces.mat')\n",
        "\n"
      ]
    },
    {
      "cell_type": "markdown",
      "source": [
        "# Viewing the images\n",
        "The Plot_Face function is used to plot the images. Remember that each image is a vector, so internally it is transformed into a\n",
        "matrix of the correct dimensions of the image to be displayed. Here is an example when viewing image 4"
      ],
      "metadata": {
        "id": "OyS0H6DgRT2U"
      }
    },
    {
      "cell_type": "code",
      "source": [
        "def Plot_Face(image_vec, i,title):\n",
        "  fig1 = plt.figure(figsize=(10, 3))\n",
        "  image = image_vec.reshape((m,n))\n",
        "  img = plt.imshow(image.T)\n",
        "  img.set_cmap('gray')\n",
        "  plt.title(title  + str(i+1))\n",
        "  plt.axis('off')\n",
        "  plt.show()\n",
        "\n",
        "# Example of use\n",
        "number_image = 100\n",
        "image_vec = X.T[number_image]\n",
        "Plot_Face(image_vec,number_image,'face ')"
      ],
      "metadata": {
        "colab": {
          "base_uri": "https://localhost:8080/"
        },
        "id": "7Gawpse43TGQ",
        "outputId": "c1a33387-7e7e-492d-f003-214d0f4ae3e8"
      },
      "execution_count": null,
      "outputs": [
        {
          "output_type": "display_data",
          "data": {
            "text/plain": [
              "<Figure size 1000x300 with 1 Axes>"
            ],
            "image/png": "[encoded data removed]"
          },
          "metadata": {}
        }
      ]
    },
    {
      "cell_type": "markdown",
      "source": [
        "# PCA dimensional Reduction\n",
        "Use Principal Component Analysis to obtain the K eigen vectors with the highest variance. You can use  [PCA - Sklearn](https://scikit-learn.org/stable/modules/generated/sklearn.decomposition.PCA.html)"
      ],
      "metadata": {
        "id": "2jxhtNSjBEMo"
      }
    },
    {
      "cell_type": "code",
      "source": [
        "#Write your code here"
      ],
      "metadata": {
        "colab": {
          "base_uri": "https://localhost:8080/"
        },
        "id": "c_MoF1xq6Mm1",
        "outputId": "6633dc3c-46b5-4c95-e2bf-627c556cc012"
      },
      "execution_count": null,
      "outputs": [
        {
          "output_type": "stream",
          "name": "stdout",
          "text": [
            "[0.36212541 0.34843907 0.0493326  0.02852308 0.01495091]\n"
          ]
        }
      ]
    },
    {
      "cell_type": "markdown",
      "source": [
        "# Analyzing the components\n",
        "Project the original data to the k most relevant components. Use fit_tranform to get the transformed data.\n",
        "- Print or show the applied variance ratio and decide on the most relevant K eigenvectors\n",
        "- Plot the k components using the Plot_Face function. Remember that the function will internally transform the vector into a matrix.\n",
        "- The images you can see are called eigenfaces in this case.\n",
        "- This tells us that any face can be reconstructed with a linear combination of these eigenfaces. <font color='red'> !!!Great right?</font> 😊😊"
      ],
      "metadata": {
        "id": "P337LDtg78Qt"
      }
    },
    {
      "cell_type": "code",
      "source": [
        "#Write your code here"
      ],
      "metadata": {
        "id": "_VdhyGUR1JkA"
      },
      "execution_count": null,
      "outputs": []
    },
    {
      "cell_type": "markdown",
      "source": [
        "# Intente hacer lo mismo usando SVD y No Negative Matrix Factorization"
      ],
      "metadata": {
        "id": "8lxAcPNi075N"
      }
    },
    {
      "cell_type": "code",
      "source": [
        "#Write your code here"
      ],
      "metadata": {
        "id": "yPysdq3m6em3"
      },
      "execution_count": null,
      "outputs": []
    },
    {
      "cell_type": "markdown",
      "source": [
        "# Clustering.\n",
        "\n",
        "**Congratulations**, your team has managed to transform the face matrix from an Nxd matrix to an Nxk matrix, where k << d. You have managed to reduce the dimensionality. Very good... 😊😊\n",
        "\n",
        "\n",
        "\n",
        "Now, with this new data and with the same Y labels, the data can be randomly divided 80% for training and 30% for testing. You can use  [this library]( https://scikit-learn.org/stable/modules/generated/sklearn.model_selection.train_test_split.html) to split the data.\n",
        "\n",
        "You can now train a classification model. Use the sklear  [SVM](https://scikit-learn.org/stable/modules/svm.html), KNN and Decision tree   to train and test the results. Your team should show a confusion matrix for the result.  Yo can use scikit-learn library.\n",
        "\n",
        "## <font color='red'> !!!The hunger games has begun. Good luck. right? </font>  😱 😱 😱\n",
        "\n",
        "\n",
        "\n"
      ],
      "metadata": {
        "id": "5wfnHARrQbC5"
      }
    },
    {
      "cell_type": "code",
      "source": [
        "# write your code here"
      ],
      "metadata": {
        "id": "gZGi88OiVTQv"
      },
      "execution_count": null,
      "outputs": []
    }
  ]
}