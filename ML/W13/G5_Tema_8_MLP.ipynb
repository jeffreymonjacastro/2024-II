{
 "cells": [
  {
   "cell_type": "markdown",
   "metadata": {
    "id": "ubW-vBUJJQzu"
   },
   "source": [
    " # Tema 8:  Neuronal Netword MLP\n",
    " ----\n",
    "  \n",
    "  University : UTEC \\\\\n",
    "  Course       : Machine Learning \\\\\n",
    "  Professor    : Cristian López Del Alamo \\\\\n",
    "  Topic        : MLP \\\\\n",
    "  Termina      :\n",
    "   \n",
    "\n",
    " ----\n",
    "\n",
    "Write the names and surnames of the members and the percentage of participation of each one in the development of the practice:\n",
    " - Integrante 1:\n",
    " - Integrante 2:\n",
    " - Integrante 3:\n",
    " - Integrante 3:\n",
    " ----\n",
    "\n",
    "\n"
   ]
  },
  {
   "cell_type": "code",
   "execution_count": 3,
   "metadata": {
    "id": "eyhCYZde-Sdm"
   },
   "outputs": [],
   "source": [
    "import torch\n",
    "import pandas as pd\n",
    "from torch import nn\n",
    "import numpy as np\n",
    "import matplotlib.pyplot as plt\n",
    "from sklearn.preprocessing import StandardScaler"
   ]
  },
  {
   "cell_type": "markdown",
   "metadata": {
    "id": "16XaCxf3-X1g"
   },
   "source": [
    "# Base de datos.\n",
    "For this practice, we have a lung cancer database with 310 records. Each record has 15 features, and the last column represents the class or label (YES = 1, NO = 0).\n",
    "\n",
    "You should split the dataset into 70% for training and 30% for testing.\n",
    "\n",
    "- Database [Here](https://docs.google.com/spreadsheets/d/1UgARjsg2BDeeJzcfPsydqFANqKHNOhXyVDoqL9_VIcc/edit?usp=sharing)"
   ]
  },
  {
   "cell_type": "code",
   "execution_count": 2,
   "metadata": {
    "colab": {
     "base_uri": "https://localhost:8080/"
    },
    "collapsed": true,
    "id": "L50o-L9o_F_A",
    "outputId": "4cf8c99d-2cfc-45ec-c3dc-f81e4d310b3b"
   },
   "outputs": [
    {
     "ename": "NameError",
     "evalue": "name 'torch' is not defined",
     "output_type": "error",
     "traceback": [
      "\u001b[1;31m---------------------------------------------------------------------------\u001b[0m",
      "\u001b[1;31mNameError\u001b[0m                                 Traceback (most recent call last)",
      "Cell \u001b[1;32mIn[2], line 2\u001b[0m\n\u001b[0;32m      1\u001b[0m \u001b[38;5;66;03m# Prepare Colab to work with CUDA.\u001b[39;00m\n\u001b[1;32m----> 2\u001b[0m device \u001b[38;5;241m=\u001b[39m \u001b[43mtorch\u001b[49m\u001b[38;5;241m.\u001b[39mdevice(\u001b[38;5;124m'\u001b[39m\u001b[38;5;124mcuda:0\u001b[39m\u001b[38;5;124m'\u001b[39m \u001b[38;5;28;01mif\u001b[39;00m torch\u001b[38;5;241m.\u001b[39mcuda\u001b[38;5;241m.\u001b[39mis_available() \u001b[38;5;28;01melse\u001b[39;00m \u001b[38;5;124m'\u001b[39m\u001b[38;5;124mcpu\u001b[39m\u001b[38;5;124m'\u001b[39m)\n\u001b[0;32m      3\u001b[0m \u001b[38;5;28mprint\u001b[39m(device)\n\u001b[0;32m      5\u001b[0m \u001b[38;5;28;01mfrom\u001b[39;00m \u001b[38;5;21;01mgoogle\u001b[39;00m\u001b[38;5;21;01m.\u001b[39;00m\u001b[38;5;21;01mcolab\u001b[39;00m \u001b[38;5;28;01mimport\u001b[39;00m drive\n",
      "\u001b[1;31mNameError\u001b[0m: name 'torch' is not defined"
     ]
    }
   ],
   "source": [
    "# Prepare Colab to work with CUDA.\n",
    "device = torch.device('cuda:0' if torch.cuda.is_available() else 'cpu')\n",
    "print(device)\n",
    "\n",
    "from google.colab import drive\n",
    "drive.mount('/content/drive')\n",
    "\n",
    "# Read the dataset\n",
    "path = \"cancer_pulmon.csv\"\n",
    "data = pd.read_csv(path)\n",
    "data.head()\n",
    "\n",
    "# Separate the data into x and y\n",
    "x_data = data.iloc[:, :15]\n",
    "y_data = data.iloc[:, -1]\n",
    "\n",
    "# Remember the data must be transformed to torch tensors for PyTorch to handle and understand.\n",
    "\n",
    "# Write your code here"
   ]
  },
  {
   "cell_type": "code",
   "execution_count": null,
   "metadata": {
    "colab": {
     "base_uri": "https://localhost:8080/"
    },
    "id": "KurD8bjADO0b",
    "outputId": "5e728214-81c0-4b09-d9e0-32b972aed20e"
   },
   "outputs": [
    {
     "name": "stdout",
     "output_type": "stream",
     "text": [
      "[[        nan  0.77185028 -1.13529242 ...  0.74873631  1.06350105\n",
      "   0.892475  ]\n",
      " [        nan  1.38182914  0.88083033 ...  0.74873631  1.06350105\n",
      "   0.892475  ]\n",
      " [        nan -0.44810745 -1.13529242 ...  0.74873631 -0.94029056\n",
      "   0.892475  ]\n",
      " ...\n",
      " [        nan -0.57010322  0.88083033 ... -1.33558369 -0.94029056\n",
      "   0.892475  ]\n",
      " [        nan  0.52785873  0.88083033 ...  0.74873631 -0.94029056\n",
      "   0.892475  ]\n",
      " [        nan -0.08212013 -1.13529242 ... -1.33558369  1.06350105\n",
      "  -1.12047956]]\n"
     ]
    },
    {
     "name": "stderr",
     "output_type": "stream",
     "text": [
      "/usr/local/lib/python3.10/dist-packages/sklearn/utils/extmath.py:1137: RuntimeWarning: invalid value encountered in divide\n",
      "  updated_mean = (last_sum + new_sum) / updated_sample_count\n",
      "/usr/local/lib/python3.10/dist-packages/sklearn/utils/extmath.py:1142: RuntimeWarning: invalid value encountered in divide\n",
      "  T = new_sum / new_sample_count\n",
      "/usr/local/lib/python3.10/dist-packages/sklearn/utils/extmath.py:1162: RuntimeWarning: invalid value encountered in divide\n",
      "  new_unnormalized_variance -= correction**2 / new_sample_count\n"
     ]
    },
    {
     "ename": "AttributeError",
     "evalue": "'NoneType' object has no attribute 'shape'",
     "output_type": "error",
     "traceback": [
      "\u001b[0;31m---------------------------------------------------------------------------\u001b[0m",
      "\u001b[0;31mAttributeError\u001b[0m                            Traceback (most recent call last)",
      "\u001b[0;32m<ipython-input-16-c1a5ef2d96d6>\u001b[0m in \u001b[0;36m<cell line: 6>\u001b[0;34m()\u001b[0m\n\u001b[1;32m      4\u001b[0m \u001b[0mx_data_normalized\u001b[0m \u001b[0;34m=\u001b[0m \u001b[0mscaler\u001b[0m\u001b[0;34m.\u001b[0m\u001b[0mfit_transform\u001b[0m\u001b[0;34m(\u001b[0m\u001b[0mx_data\u001b[0m\u001b[0;34m)\u001b[0m\u001b[0;34m\u001b[0m\u001b[0;34m\u001b[0m\u001b[0m\n\u001b[1;32m      5\u001b[0m \u001b[0;34m\u001b[0m\u001b[0m\n\u001b[0;32m----> 6\u001b[0;31m \u001b[0mprint\u001b[0m\u001b[0;34m(\u001b[0m\u001b[0mx_data_normalized\u001b[0m\u001b[0;34m)\u001b[0m\u001b[0;34m.\u001b[0m\u001b[0mshape\u001b[0m\u001b[0;34m\u001b[0m\u001b[0;34m\u001b[0m\u001b[0m\n\u001b[0m",
      "\u001b[0;31mAttributeError\u001b[0m: 'NoneType' object has no attribute 'shape'"
     ]
    }
   ],
   "source": [
    "x_data['GENDER'] = x_data['GENDER'].map({'M': 0, 'F': 1})\n",
    "\n",
    "scaler = StandardScaler()\n",
    "x_data_normalized = scaler.fit_transform(x_data)\n",
    "\n",
    "print(x_data_normalized).shape"
   ]
  },
  {
   "cell_type": "markdown",
   "metadata": {
    "id": "1nb90HJQ_GoP"
   },
   "source": [
    "# Neural Network Design\n",
    "\n",
    "## Input:\n",
    "- The input to the network is a vector of dimension 15. (Remember to normalize the data)\n",
    "- You can use PCA or another method to reduce dimensionality and see the impact on the result\n",
    "\n",
    "## Structure:\n",
    "\n",
    "You should design 3 types of MLP:\n",
    "\n",
    "- MLP with one hidden layer\n",
    "- MLP with two hidden layers\n",
    "- MLP with three hidden layers\n",
    "- What should be the activation function of the output layer and why?\n",
    "\n",
    "## Output:\n",
    "- The network has 2 output neurons. (1,0) indicates **no cancer** and (0,1) indicates **cancer**.\n",
    "- You should choose the activation function for the output layer according to the values it should return.\n",
    "\n",
    "----\n",
    "## Help Link:\n",
    "- [Torch Linear Model](https://pytorch.org/docs/stable/generated/torch.nn.Linear.html)\n",
    "- [Examples](https://pytorch.org/tutorials/beginner/introyt/modelsyt_tutorial.html)\n",
    "- [Activation Functions](https://pytorch.org/docs/stable/nn.functional.html)\n",
    "\n"
   ]
  },
  {
   "cell_type": "code",
   "execution_count": null,
   "metadata": {
    "id": "Zc7X5WUf_lHI"
   },
   "outputs": [],
   "source": [
    "class MLP(torch.nn.Module):\n",
    "    def __init__(self, n):\n",
    "        super(MLP, self).__init__()\n",
    "        # Create the layers of the neural network here\n",
    "         # self.layer_1 = torch.nn.Sequential(\n",
    "          #   torch.nn.Linear(15, n),\n",
    "          #  torch.nn.ReLU(),\n",
    "          #  torch.nn.Linear(n, 2)\n",
    "          # )\n",
    "\n",
    "    def forward(self, x):\n",
    "        # Compute the vector-matrix multiplications\n",
    "        # Write your code here\n",
    "        # output = self.layer_1(x)\n",
    "\n",
    "        return output\n"
   ]
  },
  {
   "cell_type": "markdown",
   "metadata": {
    "id": "Bdg_2UuD_l1D"
   },
   "source": [
    "# Loss Function and Optimizer\n",
    "For each MLP, you should create its loss function and optimizer.\n",
    "- Keep in mind that the output of the network is a vector with two values, each value between zero and one. For example, the output might be (0.92, 0.08), which indicates that the patient has a 92% probability of not having cancer and an 8% probability of having cancer.\n",
    "\n",
    "- Given this information, consider what would be the appropriate loss function. No, it is not MSE.\n",
    "\n",
    "----\n",
    "\n",
    "- [Loss Function](https://neptune.ai/blog/pytorch-loss-functions)\n",
    "- [Optimizers](https://machinelearningmastery.com/using-optimizers-from-pytorch/)"
   ]
  },
  {
   "cell_type": "code",
   "execution_count": null,
   "metadata": {
    "id": "jE-yw8kx_3dU"
   },
   "outputs": [],
   "source": [
    "# The following two lines are examples of a loss function and an optimizer.\n",
    "# loss = torch.nn.MSELoss()\n",
    "# optimizer = torch.optim.Adam(model1.parameters(), lr = 0.01)"
   ]
  },
  {
   "cell_type": "markdown",
   "metadata": {
    "id": "H1-0imLu_2Kd"
   },
   "source": [
    "# Training\n",
    "\n",
    "- In this stage, you should train your neural network.\n",
    "- The training code is already prepared to work for you."
   ]
  },
  {
   "cell_type": "code",
   "execution_count": null,
   "metadata": {
    "id": "tQOvJAjrACVv"
   },
   "outputs": [],
   "source": [
    "def train(model, loss_f, optimizer,epochs, x_train, y_train):\n",
    "  loss_lista = []\n",
    "  i=0\n",
    "  for epoch in range(epochs):\n",
    "\n",
    "    x_train = x_train.to(device)\n",
    "    y_train = y_train.to(device)\n",
    "\n",
    "    # Propagacion adelante\n",
    "    y_pred = model(x_train)\n",
    "    loss   = loss_f(y_pred,y_train)\n",
    "    loss_lista.append(loss.cpu())\n",
    "    i=i+1\n",
    "    if (epoch%500==0):\n",
    "      print('Epoch {}: train loss: {}'.format(epoch, loss.item()))    # Backward pass\n",
    "\n",
    "    # backpropagation\n",
    "    optimizer.zero_grad()\n",
    "    loss.backward()\n",
    "    optimizer.step()\n",
    "  return loss_lista"
   ]
  },
  {
   "cell_type": "markdown",
   "metadata": {
    "id": "3xymXOOtAD8R"
   },
   "source": [
    "# Testing\n",
    "- Complete the test function so that you can find the accuracy of the model, plot the confusion matrix, and display metrics such as F1-score, precision, and recall."
   ]
  },
  {
   "cell_type": "code",
   "execution_count": null,
   "metadata": {
    "id": "KKXkspyTC9DJ"
   },
   "outputs": [],
   "source": [
    "def test(model, x_train, y_train):\n",
    "  x_train = x_train.to(device)\n",
    "  y_train = y_train.to(device)\n",
    "  y_pred = model(x_train)\n",
    "  ## Comparar los datos predecidor con los datos de entrenamiento\n",
    "\n",
    "  ## Graficar la matriz de confusion y mostrar métricas como F1 score, presition and recall\n",
    "\n"
   ]
  }
 ],
 "metadata": {
  "colab": {
   "provenance": []
  },
  "kernelspec": {
   "display_name": "Python 3",
   "name": "python3"
  },
  "language_info": {
   "codemirror_mode": {
    "name": "ipython",
    "version": 3
   },
   "file_extension": ".py",
   "mimetype": "text/x-python",
   "name": "python",
   "nbconvert_exporter": "python",
   "pygments_lexer": "ipython3",
   "version": "3.12.7"
  }
 },
 "nbformat": 4,
 "nbformat_minor": 0
}
