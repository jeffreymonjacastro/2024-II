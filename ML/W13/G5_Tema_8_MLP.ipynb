{
  "nbformat": 4,
  "nbformat_minor": 0,
  "metadata": {
    "colab": {
      "provenance": []
    },
    "kernelspec": {
      "name": "python3",
      "display_name": "Python 3"
    },
    "language_info": {
      "name": "python"
    }
  },
  "cells": [
    {
      "cell_type": "markdown",
      "source": [
        " # Tema 8:  Neuronal Netword MLP\n",
        " ----\n",
        "  \n",
        "  University : UTEC \\\\\n",
        "  Course       : Machine Learning \\\\\n",
        "  Professor    : Cristian López Del Alamo \\\\\n",
        "  Topic        : MLP \\\\\n",
        "  Termina      :\n",
        "   \n",
        "\n",
        " ----\n",
        "\n",
        "Write the names and surnames of the members and the percentage of participation of each one in the development of the practice:\n",
        " - Integrante 1: Mezita Torres,Fabryzzio Jossue\n",
        " - Integrante 2:Monja Castro, Jeffrey Antonio\n",
        " - Integrante 3:Salinas Salas, Joaquin Mauricio\n",
        " - Integrante 3:Tipula Meza, Flavio Jose\n",
        " ----\n",
        "\n",
        "\n"
      ],
      "metadata": {
        "id": "ubW-vBUJJQzu"
      }
    },
    {
      "cell_type": "code",
      "execution_count": null,
      "metadata": {
        "id": "eyhCYZde-Sdm"
      },
      "outputs": [],
      "source": [
        "import torch\n",
        "import pandas as pd\n",
        "from torch import nn\n",
        "import numpy as np\n",
        "import matplotlib.pyplot as plt\n",
        "from sklearn.preprocessing import StandardScaler\n",
        "from sklearn.decomposition import PCA\n",
        "from sklearn.metrics import confusion_matrix, classification_report\n",
        "import seaborn as sns\n",
        "from sklearn.model_selection import train_test_split"
      ]
    },
    {
      "cell_type": "markdown",
      "source": [
        "# Base de datos.\n",
        "For this practice, we have a lung cancer database with 310 records. Each record has 15 features, and the last column represents the class or label (YES = 1, NO = 0).\n",
        "\n",
        "You should split the dataset into 70% for training and 30% for testing.\n",
        "\n",
        "- Database [Here](https://docs.google.com/spreadsheets/d/1UgARjsg2BDeeJzcfPsydqFANqKHNOhXyVDoqL9_VIcc/edit?usp=sharing)"
      ],
      "metadata": {
        "id": "16XaCxf3-X1g"
      }
    },
    {
      "cell_type": "code",
      "source": [
        "# Prepare Colab to work with CUDA.\n",
        "device = torch.device('cuda:0' if torch.cuda.is_available() else 'cpu')\n",
        "print(device)\n",
        "\n",
        "from google.colab import drive\n",
        "drive.mount('/content/drive')\n",
        "\n",
        "# Read the dataset\n",
        "path = \"/content/drive/Shared drives/G5/cancer_pulmon.csv\"\n",
        "data = pd.read_csv(path)\n",
        "data.head()\n",
        "\n",
        "# Separate the data into x and y\n",
        "x_data = data.iloc[:, :15]\n",
        "y_data = data.iloc[:, -1]\n",
        "\n",
        "# Remember the data must be transformed to torch tensors for PyTorch to handle and understand.\n",
        "\n",
        "# Write your code here"
      ],
      "metadata": {
        "colab": {
          "base_uri": "https://localhost:8080/"
        },
        "collapsed": true,
        "id": "L50o-L9o_F_A",
        "outputId": "0467d976-834a-4fbe-871f-e2061096752a"
      },
      "execution_count": null,
      "outputs": [
        {
          "output_type": "stream",
          "name": "stdout",
          "text": [
            "cuda:0\n",
            "Drive already mounted at /content/drive; to attempt to forcibly remount, call drive.mount(\"/content/drive\", force_remount=True).\n"
          ]
        }
      ]
    },
    {
      "cell_type": "code",
      "source": [
        "#Dentro del datasetm cambiamos las etiquetas de los generos y las salidas por valores numericos, para la normalizacion\n",
        "x_data['GENDER'] = x_data['GENDER'].map({'M': 0, 'F': 1})\n",
        "y_data = y_data.map({'NO': 0, 'YES': 1})"
      ],
      "metadata": {
        "id": "-1Au3ly3KK34"
      },
      "execution_count": null,
      "outputs": []
    },
    {
      "cell_type": "markdown",
      "source": [
        "## Normalization, Reduction and split"
      ],
      "metadata": {
        "id": "tNey2XMfUy6Q"
      }
    },
    {
      "cell_type": "code",
      "source": [
        "#Usando el StandardScaler normalizamos la data\n",
        "scaler = StandardScaler()\n",
        "x_norm = scaler.fit_transform(x_data)\n",
        "\n",
        "#Se aplica PCA sin ningun numero fijo de componentes\n",
        "pca = PCA()\n",
        "pca.fit(x_norm)\n",
        "\n",
        "#Se deterina la varianza acumulada para los distintos componentes, y la que tenga mejor exito al llegar al 90% de recuperacion, es el numero de componetes a usar\n",
        "varianza_acumulada = np.cumsum(pca.explained_variance_ratio_)\n",
        "componentes = np.argmax(varianza_acumulada >= 0.90) + 1\n",
        "\n",
        "#Se usa el numero de componentes que definimos antes para la descomposicion\n",
        "pca = PCA(n_components=componentes)\n",
        "x_data_pca = pca.fit_transform(x_norm)\n",
        "\n",
        "#idivimos los datos para training y testing\n",
        "x_train_norm, x_test_norm, y_train_norm, y_test_norm = train_test_split(x_norm, y_data, test_size=0.3, random_state=42)\n",
        "\n",
        "x_train_norm_torch = torch.tensor(x_train_norm, dtype=torch.float32)\n",
        "x_test_norm_torch = torch.tensor(x_test_norm, dtype=torch.float32)\n",
        "y_train_norm_torch = torch.tensor(y_train_norm, dtype=torch.long)\n",
        "y_test_norm_torch = torch.tensor(y_test_norm.values, dtype=torch.long)\n",
        "\n",
        "x_train_pca, x_test_pca, y_train_pca, y_test_pca = train_test_split(x_data_pca, y_data, test_size=0.3, random_state=42)\n",
        "\n",
        "x_train_pca_torch = torch.tensor(x_train_pca, dtype=torch.float32)\n",
        "x_test_pca_torch = torch.tensor(x_test_pca, dtype=torch.float32)\n",
        "y_train_pca_torch = torch.tensor(y_train_pca, dtype=torch.long)\n",
        "y_test_pca_torch = torch.tensor(y_test_pca.values, dtype=torch.long)"
      ],
      "metadata": {
        "id": "KurD8bjADO0b"
      },
      "execution_count": null,
      "outputs": []
    },
    {
      "cell_type": "markdown",
      "source": [
        "# Neural Network Design\n",
        "\n",
        "## Input:\n",
        "- The input to the network is a vector of dimension 15. (Remember to normalize the data)\n",
        "- You can use PCA or another method to reduce dimensionality and see the impact on the result\n",
        "\n",
        "## Structure:\n",
        "\n",
        "You should design 3 types of MLP:\n",
        "\n",
        "- MLP with one hidden layer\n",
        "- MLP with two hidden layers\n",
        "- MLP with three hidden layers\n",
        "- What should be the activation function of the output layer and why?\n",
        "\n",
        "## Output:\n",
        "- The network has 2 output neurons. (1,0) indicates **no cancer** and (0,1) indicates **cancer**.\n",
        "- You should choose the activation function for the output layer according to the values it should return.\n",
        "\n",
        "----\n",
        "## Help Link:\n",
        "- [Torch Linear Model](https://pytorch.org/docs/stable/generated/torch.nn.Linear.html)\n",
        "- [Examples](https://pytorch.org/tutorials/beginner/introyt/modelsyt_tutorial.html)\n",
        "- [Activation Functions](https://pytorch.org/docs/stable/nn.functional.html)\n",
        "\n"
      ],
      "metadata": {
        "id": "1nb90HJQ_GoP"
      }
    },
    {
      "cell_type": "code",
      "source": [
        " class MLP(torch.nn.Module):\n",
        "    def __init__(self, n):\n",
        "        super(MLP, self).__init__()\n",
        "        # Create the layers of the neural network here\n",
        "        self.layersJuan=torch.nn.Sequential(\n",
        "        torch.nn.Linear(15,n),\n",
        "        torch.nn.ReLU(),\n",
        "        torch.nn.Linear(n,2)\n",
        "        )\n",
        "         # self.layer_1 = torch.nn.Sequential(\n",
        "          #   torch.nn.Linear(15, n),\n",
        "          #  torch.nn.ReLU(),\n",
        "          #  torch.nn.Linear(n, 2)\n",
        "          # )\n",
        "\n",
        "    def forward(self, x):\n",
        "        output = self.layersJuan(x)\n",
        "\n",
        "        return output\n"
      ],
      "metadata": {
        "id": "Zc7X5WUf_lHI"
      },
      "execution_count": null,
      "outputs": []
    },
    {
      "cell_type": "markdown",
      "source": [
        "# Loss Function and Optimizer\n",
        "For each MLP, you should create its loss function and optimizer.\n",
        "- Keep in mind that the output of the network is a vector with two values, each value between zero and one. For example, the output might be (0.92, 0.08), which indicates that the patient has a 92% probability of not having cancer and an 8% probability of having cancer.\n",
        "\n",
        "- Given this information, consider what would be the appropriate loss function. No, it is not MSE.\n",
        "\n",
        "----\n",
        "\n",
        "- [Loss Function](https://neptune.ai/blog/pytorch-loss-functions)\n",
        "- [Optimizers](https://machinelearningmastery.com/using-optimizers-from-pytorch/)"
      ],
      "metadata": {
        "id": "Bdg_2UuD_l1D"
      }
    },
    {
      "cell_type": "code",
      "source": [
        "#Creamos nuestra clase\n",
        "n=128\n",
        "model1 = MLP(n)\n",
        "model1.to(device)\n",
        "\n",
        "loss = torch.nn.CrossEntropyLoss()\n",
        "optimizer = torch.optim.Adam(model1.parameters(), lr = 0.01)"
      ],
      "metadata": {
        "id": "jE-yw8kx_3dU"
      },
      "execution_count": null,
      "outputs": []
    },
    {
      "cell_type": "markdown",
      "source": [
        "# Training\n",
        "\n",
        "- In this stage, you should train your neural network.\n",
        "- The training code is already prepared to work for you."
      ],
      "metadata": {
        "id": "H1-0imLu_2Kd"
      }
    },
    {
      "cell_type": "code",
      "source": [
        "def train(model, loss_f, optimizer,epochs, x_train, y_train):\n",
        "    loss_lista = []\n",
        "    i=0\n",
        "    for epoch in range(epochs):\n",
        "\n",
        "        x_train = x_train.to(device)\n",
        "        y_train = y_train.to(device)\n",
        "\n",
        "        # Propagacion adelante\n",
        "        y_pred = model(x_train)\n",
        "        loss   = loss_f(y_pred,y_train)\n",
        "        loss_lista.append(loss.cpu())\n",
        "        i=i+1\n",
        "        if (epoch%500==0):\n",
        "          print('Epoch {}: train loss: {}'.format(epoch, loss.item()))    # Backward pass\n",
        "\n",
        "        # backpropagation\n",
        "        optimizer.zero_grad()\n",
        "        loss.backward()\n",
        "        optimizer.step()\n",
        "    return loss_lista"
      ],
      "metadata": {
        "id": "tQOvJAjrACVv"
      },
      "execution_count": null,
      "outputs": []
    },
    {
      "cell_type": "code",
      "source": [
        "print(\"Modelo 1\")\n",
        "loss_lista2 = train(model1,loss, optimizer, 10000, x_train_norm_torch,y_train_norm_torch)"
      ],
      "metadata": {
        "id": "4vxRs7R7Nee-",
        "colab": {
          "base_uri": "https://localhost:8080/"
        },
        "outputId": "895861ab-d453-4165-813a-63991c7ae593"
      },
      "execution_count": null,
      "outputs": [
        {
          "output_type": "stream",
          "name": "stdout",
          "text": [
            "Modelo 1\n",
            "Epoch 0: train loss: 0.7381344437599182\n",
            "Epoch 500: train loss: 0.007725513074547052\n",
            "Epoch 1000: train loss: 0.0066298129968345165\n",
            "Epoch 1500: train loss: 0.006501009222120047\n",
            "Epoch 2000: train loss: 0.00646193278953433\n",
            "Epoch 2500: train loss: 0.006467840634286404\n",
            "Epoch 3000: train loss: 0.006449314299970865\n",
            "Epoch 3500: train loss: 0.006433582399040461\n",
            "Epoch 4000: train loss: 0.006426358595490456\n",
            "Epoch 4500: train loss: 0.0064246137626469135\n",
            "Epoch 5000: train loss: 0.0064257062040269375\n",
            "Epoch 5500: train loss: 0.006424153223633766\n",
            "Epoch 6000: train loss: 0.006421748548746109\n",
            "Epoch 6500: train loss: 0.006420311983674765\n",
            "Epoch 7000: train loss: 0.006419805344194174\n",
            "Epoch 7500: train loss: 0.006419398356229067\n",
            "Epoch 8000: train loss: 0.00641911244019866\n",
            "Epoch 8500: train loss: 0.006418897770345211\n",
            "Epoch 9000: train loss: 0.006431853398680687\n",
            "Epoch 9500: train loss: 0.006418533157557249\n"
          ]
        }
      ]
    },
    {
      "cell_type": "markdown",
      "source": [
        "# Testing\n",
        "- Complete the test function so that you can find the accuracy of the model, plot the confusion matrix, and display metrics such as F1-score, precision, and recall."
      ],
      "metadata": {
        "id": "3xymXOOtAD8R"
      }
    },
    {
      "cell_type": "code",
      "source": [
        "def test(model, x_test, y_test):\n",
        "    x_test = x_test.to(device)\n",
        "    y_test = y_test.to(device)\n",
        "    with torch.no_grad():\n",
        "        y_pred = model(x_test)\n",
        "\n",
        "    y_pred_labels=torch.argmax(y_pred,dim=1)\n",
        "\n",
        "    y_pred_labels = y_pred_labels.cpu().numpy()\n",
        "    y_test_cpu = y_test.cpu().numpy()\n",
        "\n",
        "    confusion_matri = confusion_matrix(y_test_cpu, y_pred_labels)\n",
        "    print(classification_report(y_test_cpu, y_pred_labels))\n",
        "    plt.figure(figsize=(8, 6))\n",
        "    sns.heatmap(confusion_matri, annot=True, fmt='d', cmap='Reds', xticklabels=[\"No Cancer\", \"Cancer :(\"], yticklabels=[\"No Cancer\", \"Cancer :(\"])\n",
        "    plt.xlabel(\"Predicción\")\n",
        "    plt.ylabel(\"Real\")\n",
        "    plt.title(\"Matriz de Confusión\")\n",
        "    plt.show()\n",
        "\n",
        "\n"
      ],
      "metadata": {
        "id": "KKXkspyTC9DJ"
      },
      "execution_count": null,
      "outputs": []
    },
    {
      "cell_type": "code",
      "source": [
        "test(model1, x_test_norm_torch, y_test_norm_torch)"
      ],
      "metadata": {
        "id": "Fv-I2VT2SMf3",
        "colab": {
          "base_uri": "https://localhost:8080/",
          "height": 728
        },
        "outputId": "57a8e7f7-025f-4b9e-ec17-c76b469c1fe1"
      },
      "execution_count": null,
      "outputs": [
        {
          "output_type": "stream",
          "name": "stdout",
          "text": [
            "              precision    recall  f1-score   support\n",
            "\n",
            "           0       0.62      0.71      0.67         7\n",
            "           1       0.98      0.97      0.97        86\n",
            "\n",
            "    accuracy                           0.95        93\n",
            "   macro avg       0.80      0.84      0.82        93\n",
            "weighted avg       0.95      0.95      0.95        93\n",
            "\n"
          ]
        },
        {
          "output_type": "display_data",
          "data": {
            "text/plain": [
              "<Figure size 800x600 with 2 Axes>"
            ],
            "image/png": "[encoded data removed]"
          },
          "metadata": {}
        }
      ]
    }
  ]
}