{
  "cells": [
    {
      "cell_type": "markdown",
      "source": [
        "# Redes Neuronales (MLP)\n",
        "\n",
        "Carrera: Ciencia de la computación   \n",
        "Profesor:  Cristain López Del Alamo\n"
      ],
      "metadata": {
        "id": "yxB8GlNxcynz"
      }
    },
    {
      "cell_type": "code",
      "execution_count": null,
      "metadata": {
        "id": "x_KcdXECGuxY"
      },
      "outputs": [],
      "source": [
        "import torch\n",
        "from torch import nn\n",
        "import numpy as np\n",
        "import matplotlib.pyplot as plt\n"
      ]
    },
    {
      "cell_type": "code",
      "execution_count": null,
      "metadata": {
        "colab": {
          "base_uri": "https://localhost:8080/",
          "height": 482
        },
        "id": "Qmb30S_bJEH2",
        "outputId": "e19d3b46-5898-4845-b9c4-b1fe39185f1c"
      },
      "outputs": [
        {
          "output_type": "stream",
          "name": "stdout",
          "text": [
            "(200,)\n",
            "(200, 1)\n",
            "(200, 1)\n"
          ]
        },
        {
          "output_type": "display_data",
          "data": {
            "text/plain": [
              "<Figure size 640x480 with 1 Axes>"
            ],
            "image/png": "[encoded data removed]"
          },
          "metadata": {}
        }
      ],
      "source": [
        "n = 2000\n",
        "x = np.arange(0,2,0.01)\n",
        "y = [np.sin(i*np.pi )  +  np.random.normal(0,0.1) for i in x]\n",
        "plt.plot(x,y, '.')\n",
        "\n",
        "#######################################\n",
        "\n",
        "print(x.shape)\n",
        "x = x.reshape(len(x),1)\n",
        "print(x.shape)\n",
        "y = (np.array(y)).reshape(len(x),1)\n",
        "print(y.shape)\n"
      ]
    },
    {
      "cell_type": "code",
      "source": [
        "x = torch.from_numpy(x).float()\n",
        "y = torch.from_numpy(y).float()\n",
        "\n",
        "print(x.shape)\n",
        "\n",
        "device = torch.device('cuda:0' if torch.cuda.is_available() else 'cpu')\n",
        "print(device)\n",
        "\n",
        "#x.cuda()\n",
        "#y.cuda()\n",
        "\n",
        "\n"
      ],
      "metadata": {
        "colab": {
          "base_uri": "https://localhost:8080/",
          "height": 211
        },
        "id": "j3kDttWue3Nl",
        "outputId": "de9b8258-a73d-4de6-db49-fb073d890dd6"
      },
      "execution_count": null,
      "outputs": [
        {
          "output_type": "error",
          "ename": "TypeError",
          "evalue": "expected np.ndarray (got Tensor)",
          "traceback": [
            "\u001b[0;31m---------------------------------------------------------------------------\u001b[0m",
            "\u001b[0;31mTypeError\u001b[0m                                 Traceback (most recent call last)",
            "\u001b[0;32m<ipython-input-6-2a7aa46e6d82>\u001b[0m in \u001b[0;36m<cell line: 1>\u001b[0;34m()\u001b[0m\n\u001b[0;32m----> 1\u001b[0;31m \u001b[0mx\u001b[0m \u001b[0;34m=\u001b[0m \u001b[0mtorch\u001b[0m\u001b[0;34m.\u001b[0m\u001b[0mfrom_numpy\u001b[0m\u001b[0;34m(\u001b[0m\u001b[0mx\u001b[0m\u001b[0;34m)\u001b[0m\u001b[0;34m.\u001b[0m\u001b[0mfloat\u001b[0m\u001b[0;34m(\u001b[0m\u001b[0;34m)\u001b[0m\u001b[0;34m\u001b[0m\u001b[0;34m\u001b[0m\u001b[0m\n\u001b[0m\u001b[1;32m      2\u001b[0m \u001b[0my\u001b[0m \u001b[0;34m=\u001b[0m \u001b[0mtorch\u001b[0m\u001b[0;34m.\u001b[0m\u001b[0mfrom_numpy\u001b[0m\u001b[0;34m(\u001b[0m\u001b[0my\u001b[0m\u001b[0;34m)\u001b[0m\u001b[0;34m.\u001b[0m\u001b[0mfloat\u001b[0m\u001b[0;34m(\u001b[0m\u001b[0;34m)\u001b[0m\u001b[0;34m\u001b[0m\u001b[0;34m\u001b[0m\u001b[0m\n\u001b[1;32m      3\u001b[0m \u001b[0;34m\u001b[0m\u001b[0m\n\u001b[1;32m      4\u001b[0m \u001b[0mprint\u001b[0m\u001b[0;34m(\u001b[0m\u001b[0mx\u001b[0m\u001b[0;34m.\u001b[0m\u001b[0mshape\u001b[0m\u001b[0;34m)\u001b[0m\u001b[0;34m\u001b[0m\u001b[0;34m\u001b[0m\u001b[0m\n\u001b[1;32m      5\u001b[0m \u001b[0;34m\u001b[0m\u001b[0m\n",
            "\u001b[0;31mTypeError\u001b[0m: expected np.ndarray (got Tensor)"
          ]
        }
      ]
    },
    {
      "cell_type": "code",
      "execution_count": null,
      "metadata": {
        "id": "ZG_xmZKDId93"
      },
      "outputs": [],
      "source": [
        "class MLP(torch.nn.Module):\n",
        "        def __init__(self, n ):\n",
        "            super(MLP, self).__init__()\n",
        "            self.layer_1 = nn.Sequential(torch.nn.Linear(1,n),nn.Sigmoid(),torch.nn.Linear(n,1),nn.Tanh())\n",
        "        def forward(self, x):\n",
        "            output = self.layer_1(x)\n",
        "            return output\n"
      ]
    },
    {
      "cell_type": "code",
      "source": [],
      "metadata": {
        "id": "7mKaK12_mAyN"
      },
      "execution_count": null,
      "outputs": []
    },
    {
      "cell_type": "code",
      "execution_count": null,
      "metadata": {
        "id": "C1TfuxQLKH1j"
      },
      "outputs": [],
      "source": [
        "model2 = MLP(3).to(device)\n",
        "f_loss = torch.nn.MSELoss()\n",
        "optimizer2 = torch.optim.Adam(model2.parameters(), lr = 0.01)\n",
        "\n"
      ]
    },
    {
      "cell_type": "code",
      "execution_count": null,
      "metadata": {
        "id": "mEEIyjj9KuHc"
      },
      "outputs": [],
      "source": [
        "def train(model, f_loss, optimizer,epochs, x_train, y_train):\n",
        "  loss_lista = []\n",
        "  i=0\n",
        "  for epoch in range(epochs):\n",
        "\n",
        "    x_train = x_train.to(device)\n",
        "    y_train = y_train.to(device)\n",
        "\n",
        "    # Propagacion adelante\n",
        "    y_pred =   model(x_train)\n",
        "\n",
        "    loss = f_loss(y_pred,y_train)\n",
        "    loss_lista.append(loss.cpu())\n",
        "    i=i+1\n",
        "    if (epoch%500==0):\n",
        "      print('Epoch {}: train loss: {}'.format(epoch, loss.item()))    # Backward pass\n",
        "\n",
        "    # backpropagation\n",
        "    optimizer.zero_grad()\n",
        "    loss.backward()\n",
        "    optimizer.step()\n",
        "  return loss_lista"
      ]
    },
    {
      "cell_type": "code",
      "execution_count": null,
      "metadata": {
        "colab": {
          "base_uri": "https://localhost:8080/"
        },
        "id": "K-1eX78VLSQ9",
        "outputId": "975d5c80-81df-48d8-8e7b-0fd7fd567011"
      },
      "outputs": [
        {
          "output_type": "stream",
          "name": "stdout",
          "text": [
            "Modelo 2\n",
            "Epoch 0: train loss: 0.572418749332428\n",
            "Epoch 500: train loss: 0.11807660013437271\n",
            "Epoch 1000: train loss: 0.1085074245929718\n",
            "Epoch 1500: train loss: 0.0933929830789566\n",
            "Epoch 2000: train loss: 0.0680905431509018\n",
            "Epoch 2500: train loss: 0.04163321107625961\n",
            "Epoch 3000: train loss: 0.029015501961112022\n",
            "Epoch 3500: train loss: 0.01915307156741619\n",
            "Epoch 4000: train loss: 0.014520732685923576\n",
            "Epoch 4500: train loss: 0.012673916295170784\n"
          ]
        }
      ],
      "source": [
        "\n",
        "print(\"Modelo 2\")\n",
        "loss_lista2 = train(model2,f_loss, optimizer2, 5000, x,y)\n",
        "\n",
        "\n"
      ]
    },
    {
      "cell_type": "code",
      "source": [],
      "metadata": {
        "id": "mOsfPsKRmJa4"
      },
      "execution_count": null,
      "outputs": []
    },
    {
      "cell_type": "code",
      "execution_count": null,
      "metadata": {
        "id": "3Wb84eqKUXVl"
      },
      "outputs": [],
      "source": [
        "def figura(modelo,i):\n",
        "  f = plt.figure(figsize=(5,20))\n",
        "  with torch.no_grad():\n",
        "    x = torch.FloatTensor(np.arange(0,2,0.01)).unsqueeze(1).to(device)\n",
        "    y_pred = modelo(x)\n",
        "    x = x.cpu()\n",
        "    y_pred = y_pred.cpu()\n",
        "    ax2 = plt.subplot(5,1,i)\n",
        "    plt.plot(x,y_pred)\n",
        "    plt.plot(x,y,'*')\n",
        "\n"
      ]
    },
    {
      "cell_type": "code",
      "execution_count": null,
      "metadata": {
        "colab": {
          "base_uri": "https://localhost:8080/",
          "height": 326
        },
        "id": "WHgzjzpGu609",
        "outputId": "1739ab46-6b7c-4577-c499-a37c8224abb8"
      },
      "outputs": [
        {
          "output_type": "display_data",
          "data": {
            "text/plain": [
              "<Figure size 500x2000 with 1 Axes>"
            ],
            "image/png": "[encoded data removed]"
          },
          "metadata": {}
        }
      ],
      "source": [
        "\n",
        "figura(model2,1)\n",
        "plt.show()\n",
        "\n"
      ]
    }
  ],
  "metadata": {
    "accelerator": "GPU",
    "colab": {
      "provenance": [],
      "gpuType": "T4"
    },
    "kernelspec": {
      "display_name": "Python 3",
      "name": "python3"
    },
    "language_info": {
      "name": "python"
    }
  },
  "nbformat": 4,
  "nbformat_minor": 0
}