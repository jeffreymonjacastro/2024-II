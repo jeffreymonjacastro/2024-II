{
  "cells": [
    {
      "cell_type": "markdown",
      "metadata": {
        "id": "AJJBBGO3SXaU"
      },
      "source": [
        "Here is the English translation:\n",
        "\n",
        "---\n",
        "\n",
        "# Practice 7.\n",
        "\n",
        "----\n",
        "\n",
        "University: UTEC \\\\\n",
        "Course: MACHINE LEARNING \\\\\n",
        "Professor: Cristian López Del Alamo \\\\\n",
        "Topic: KMEANS \\\\\n",
        "\n",
        "----\n",
        "\n",
        "Names and Surnames of Team Members:\n",
        "- Member 1 (%):\n",
        "- Member 2 (%):\n",
        "- Member 3 (%):\n",
        "\n",
        "\n",
        "Note: Please enter the names of the team members and, in parentheses, specify the percentage of contribution in the development of the practice."
      ]
    },
    {
      "cell_type": "markdown",
      "metadata": {
        "id": "5WrR4_s8NVNB"
      },
      "source": [
        "# Activities\n",
        "\n",
        "1. Download the following image: [Download](https://prod-images-static.radiopaedia.org/images/32715274/0e28a0b7738670110316fe507249c0.jpg).\n",
        "2. Implement the K-Means algorithm.\n",
        "3. The elements to be clustered will be the pixels of the image.\n",
        "4. Each pixel is an element (vector), where the features are the color intensity or colors (RGB) of each pixel; that is, each pixel is a 3D vector.\n",
        "5. All vectors (pixels) closest to a centroid should be painted the same color. This will allow you to visualize the clusters.\n",
        "6. Test with different values of K.\n",
        "7. Assign a color to each group and repaint the image, ensuring that all pixels in the same class have the same color.\n",
        "\n"
      ]
    },
    {
      "cell_type": "code",
      "execution_count": 2,
      "metadata": {
        "id": "6U2MDR6Vko46"
      },
      "outputs": [],
      "source": [
        "import random\n",
        "import numpy as np"
      ]
    },
    {
      "cell_type": "code",
      "execution_count": 3,
      "metadata": {
        "id": "YrNYg7jzO5t8"
      },
      "outputs": [],
      "source": [
        "#Returns the distance between 2 vectors.\n",
        "#Test with several distance functions.\n",
        "def distance(v1,v2):\n",
        "  #Euclidean\n",
        "\tv1 = np.array(v1)\n",
        "\tv2 = np.array(v2)\n",
        "\treturn numpy.linalg.norm(v1-v2)"
      ]
    },
    {
      "cell_type": "code",
      "execution_count": 4,
      "metadata": {
        "id": "KAb2jdD_PlzM"
      },
      "outputs": [],
      "source": [
        "# Initialize the k centroids by randomly selecting k elements from the data so that\n",
        "# each centroid has an initial location in the feature space.\n",
        "# Note, you can improve this algorithm by initializing the centroids in a more intelligent way.\n",
        "\n",
        "def Init_Centroide(data,k):\n",
        "\t#Randomly select k elements from the data\n",
        "\treturn random.sample(data, k)\n"
      ]
    },
    {
      "cell_type": "code",
      "execution_count": 4,
      "metadata": {
        "id": "9GIo-uyzO9yF"
      },
      "outputs": [],
      "source": [
        "# Given that the clusters have already been formed, new centroids can be obtained\n",
        "# by calculating the average vector of each cluster.\n",
        "\n",
        "def return_new_centroide(grupos, data,k):\n",
        "\tcentroids = []\n",
        "\t# for i in range(k):\n",
        "\t# \tfor j in range()\n"
      ]
    },
    {
      "cell_type": "code",
      "execution_count": 30,
      "metadata": {
        "id": "zOLY5VPwP9M4"
      },
      "outputs": [
        {
          "ename": "NameError",
          "evalue": "name 'numpy' is not defined",
          "output_type": "error",
          "traceback": [
            "\u001b[0;31m---------------------------------------------------------------------------\u001b[0m",
            "\u001b[0;31mNameError\u001b[0m                                 Traceback (most recent call last)",
            "Cell \u001b[0;32mIn[30], line 28\u001b[0m\n\u001b[1;32m     26\u001b[0m k \u001b[38;5;241m=\u001b[39m \u001b[38;5;241m2\u001b[39m\n\u001b[1;32m     27\u001b[0m centroides \u001b[38;5;241m=\u001b[39m Init_Centroide(data,k)\n\u001b[0;32m---> 28\u001b[0m clusters \u001b[38;5;241m=\u001b[39m \u001b[43mget_cluster\u001b[49m\u001b[43m(\u001b[49m\u001b[43mdata\u001b[49m\u001b[43m,\u001b[49m\u001b[43mcentroides\u001b[49m\u001b[43m)\u001b[49m\n",
            "Cell \u001b[0;32mIn[30], line 11\u001b[0m, in \u001b[0;36mget_cluster\u001b[0;34m(data, centroides)\u001b[0m\n\u001b[1;32m      9\u001b[0m \u001b[38;5;28;01mfor\u001b[39;00m i \u001b[38;5;129;01min\u001b[39;00m \u001b[38;5;28mrange\u001b[39m(\u001b[38;5;28mlen\u001b[39m(centroides)):\n\u001b[1;32m     10\u001b[0m \t\u001b[38;5;28;01mfor\u001b[39;00m j \u001b[38;5;129;01min\u001b[39;00m \u001b[38;5;28mrange\u001b[39m(n):\n\u001b[0;32m---> 11\u001b[0m \t\tdist \u001b[38;5;241m=\u001b[39m \u001b[43mdistance\u001b[49m\u001b[43m(\u001b[49m\u001b[43mdata\u001b[49m\u001b[43m[\u001b[49m\u001b[43mj\u001b[49m\u001b[43m]\u001b[49m\u001b[43m,\u001b[49m\u001b[43m \u001b[49m\u001b[43mcentroides\u001b[49m\u001b[43m[\u001b[49m\u001b[43mi\u001b[49m\u001b[43m]\u001b[49m\u001b[43m)\u001b[49m\n\u001b[1;32m     12\u001b[0m \t\t\u001b[38;5;28;01mif\u001b[39;00m dist \u001b[38;5;241m<\u001b[39m clusters[j][\u001b[38;5;241m1\u001b[39m]:\n\u001b[1;32m     13\u001b[0m \t\t\tclusters[j] \u001b[38;5;241m=\u001b[39m (i, dist)\n",
            "Cell \u001b[0;32mIn[30], line 22\u001b[0m, in \u001b[0;36mdistance\u001b[0;34m(v1, v2)\u001b[0m\n\u001b[1;32m     20\u001b[0m v1 \u001b[38;5;241m=\u001b[39m np\u001b[38;5;241m.\u001b[39marray(v1)\n\u001b[1;32m     21\u001b[0m v2 \u001b[38;5;241m=\u001b[39m np\u001b[38;5;241m.\u001b[39marray(v2)\n\u001b[0;32m---> 22\u001b[0m \u001b[38;5;28;01mreturn\u001b[39;00m \u001b[43mnumpy\u001b[49m\u001b[38;5;241m.\u001b[39mlinalg\u001b[38;5;241m.\u001b[39mnorm(v1\u001b[38;5;241m-\u001b[39mv2)\n",
            "\u001b[0;31mNameError\u001b[0m: name 'numpy' is not defined"
          ]
        }
      ],
      "source": [
        "# The function returns a vector of numbers between 0 and k-1, where each value indicates the class\n",
        "# to which each element of the dataset belongs.\n",
        "\n",
        "def get_cluster(data,centroides):\n",
        "\tn = len(data)\n",
        "\tclusters = [(-1, 1e9) for _ in range(n)] \n",
        "\tfor i in range(len(centroides)):\n",
        "\t\tfor j in range(n):\n",
        "\t\t\tdist = distance(data[j], centroides[i])\n",
        "\t\t\tif dist < clusters[j][1]:\n",
        "\t\t\t\tclusters[j] = (i, dist)\n",
        "\n",
        "\tprint(clusters)\n",
        "\treturn clusters\n",
        "\n",
        "# example\n",
        "data = [[1,2],[3,4],[5,6],[7,8],[9,10]]\n",
        "k = 2\n",
        "centroides = Init_Centroide(data,k)\n",
        "clusters = get_cluster(data,centroides)"
      ]
    },
    {
      "cell_type": "code",
      "execution_count": null,
      "metadata": {
        "id": "Mx2-Hm5hPaiA"
      },
      "outputs": [],
      "source": [
        "# Find the average distance between the old centroids and the new centroids to evaluate\n",
        "# the convergence of the K-Means algorithm and determine whether to continue iter\n",
        "\n",
        "def cambio_de_centroide(old_centroide, new_centroide):\n",
        "  #write your code here\n",
        "  pass\n"
      ]
    },
    {
      "cell_type": "code",
      "execution_count": null,
      "metadata": {
        "id": "OvhCEmUbPKHq"
      },
      "outputs": [],
      "source": [
        "# This is the K-Means algorithm. It should return the centroids and the generated clusters\n",
        "# so that they can be used for further analysis.\n",
        "\n",
        "def kmeans(data, k, epochs):\n",
        "\tcentroides =  Init_Centroide(data,k)\n",
        "\tclusters   =  get_cluster(data,centroides)\n",
        "\tnew_centroides = return_new_centroide(clusters, data,k)\n",
        "\tprint(\"old\", centroides)\n",
        "\tprint(\"new\", new_centroides)\n",
        "\tfor i in range(epochs):\n",
        "\t\tprint(\"CENTROIDES\", centroides,cambio_de_centroide(centroides, new_centroides))\n",
        "\t\tcentroides = new_centroides\n",
        "\t\tclusters   =  get_cluster(data,centroides)\n",
        "\t\tnew_centroides = return_new_centroide(clusters, data,k)\n",
        "\n",
        "\treturn new_centroides, clusters\n"
      ]
    },
    {
      "cell_type": "code",
      "execution_count": null,
      "metadata": {
        "id": "Cw_0mu-1Qjo4"
      },
      "outputs": [],
      "source": [
        "from  matplotlib.pyplot import imshow\n",
        "# by recoloring the pixels according to the cluster they belong to.\n",
        "def Show_Imagen(imagen, cluster):\n",
        " # write your code here\n",
        " pass"
      ]
    },
    {
      "cell_type": "code",
      "execution_count": null,
      "metadata": {
        "colab": {
          "base_uri": "https://localhost:8080/"
        },
        "id": "bo_WvKuHpkG_",
        "outputId": "724cf6db-9ddf-4a69-f557-3b587b2137bb"
      },
      "outputs": [
        {
          "name": "stdout",
          "output_type": "stream",
          "text": [
            "(439, 439, 3)\n",
            "(192721, 3)\n"
          ]
        }
      ],
      "source": [
        "# This function is used to load the image.\n",
        "# Research with your team how to display the image on screen and visualize the clusters.\n",
        "from PIL import Image\n",
        "import requests\n",
        "from io import BytesIO\n",
        "url=\"https://prod-images-static.radiopaedia.org/images/53232774/ff186b0c656a94051c150ac9853cb3.jpg\"\n",
        "response = requests.get(url)\n",
        "img = Image.open(BytesIO(response.content))\n",
        "img = np.array(img)\n",
        "print(img.shape)\n",
        "img = img.reshape((img.shape[0]*img.shape[1],3))\n",
        "print(img.shape)\n",
        "\n"
      ]
    },
    {
      "cell_type": "markdown",
      "metadata": {
        "id": "vO4FKnpIxACB"
      },
      "source": []
    },
    {
      "cell_type": "code",
      "execution_count": null,
      "metadata": {
        "id": "mlgSC3darnan"
      },
      "outputs": [],
      "source": [
        "#Train\n",
        "np.random.seed(42)\n",
        "k = 3\n",
        "epochs = 1000\n",
        "new_centroides, clusters = kmeans(img, k, 1000)\n",
        "print(clusters.shape)"
      ]
    },
    {
      "cell_type": "markdown",
      "metadata": {
        "id": "3sHahwqBlTg_"
      },
      "source": [
        "Implement the Show_Image function, which takes the image and the cluster to which each pixel belongs as parameters. The code should display the image colored with k different colors, clearly visualizing the clusters formed in the image."
      ]
    },
    {
      "cell_type": "code",
      "execution_count": null,
      "metadata": {
        "id": "xtcDW4cN2Ynq"
      },
      "outputs": [],
      "source": [
        "Show_Imagen(img, clusters)"
      ]
    }
  ],
  "metadata": {
    "colab": {
      "provenance": []
    },
    "kernelspec": {
      "display_name": "Python 3",
      "name": "python3"
    },
    "language_info": {
      "codemirror_mode": {
        "name": "ipython",
        "version": 3
      },
      "file_extension": ".py",
      "mimetype": "text/x-python",
      "name": "python",
      "nbconvert_exporter": "python",
      "pygments_lexer": "ipython3",
      "version": "3.12.7"
    }
  },
  "nbformat": 4,
  "nbformat_minor": 0
}
