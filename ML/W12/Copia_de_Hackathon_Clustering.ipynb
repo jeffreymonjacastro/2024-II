{
 "cells": [
  {
   "cell_type": "markdown",
   "metadata": {
    "id": "MTab5zTWiQIV"
   },
   "source": [
    " # hackathon 4:  Clustering - GMM\n",
    " ----\n",
    "  \n",
    "  University : UTEC \\\\\n",
    "  Course       : ML \\\\\n",
    "  Professor    : Cristian López Del Alamo \\\\\n",
    "  Topic        : Clustering \\\\\n",
    "  End      :     10:55\n",
    "   \n",
    "\n",
    " ----\n",
    "\n",
    "Write the names and surnames of the members and the percentage of participation of each one in the development of the practice:\n",
    " - Integrante 1: (%)\n",
    " - Integrante 2: (%)\n",
    " - Integrante 3: (%)\n",
    " - Integrante 4:  (%)\n",
    "\n",
    " ----\n",
    "\n",
    "\n",
    "**Note: You may use previous codes from other exercises to read images from the database or to display images.**"
   ]
  },
  {
   "cell_type": "markdown",
   "metadata": {
    "id": "hS2FZTlWidbB"
   },
   "source": [
    "#1. DataSet\n",
    "\n",
    "The database has images of people with different facial experiences. Their task will be to group the characteristic vectors that represent these images in clusters where each clister has images of the same person.\n",
    "\n",
    "\n",
    "The database contains 450 face images, with a resolution of 896 x 592 pixels, in JPEG format. It includes approximately 27 unique people with different lighting conditions, expressions, and backgrounds.\n",
    "\n",
    "\n",
    "You can use any of the methods you have learned to obtain the feacture vector. For example PCA to obtain the eigefaces. Look in your collabs above how to do this in case I don't remember.\n",
    "\n",
    "\n",
    "\n",
    "Link dataset: [Clik Here](https://drive.google.com/drive/folders/17JamahfFV7TxSROfkRofksisb5fcaqCA?usp=sharing)\n",
    "\n"
   ]
  },
  {
   "cell_type": "code",
   "execution_count": null,
   "metadata": {
    "colab": {
     "base_uri": "https://localhost:8080/"
    },
    "id": "zPf1tnzF5IYl",
    "outputId": "dd92f3e1-7bd6-4e03-8814-f76e637dac74"
   },
   "outputs": [
    {
     "name": "stdout",
     "output_type": "stream",
     "text": [
      "Mounted at /content/drive\n"
     ]
    }
   ],
   "source": [
    "from google.colab import drive\n",
    "drive.mount('/content/drive')"
   ]
  },
  {
   "cell_type": "markdown",
   "metadata": {
    "id": "m2EWDtXr-ZXG"
   },
   "source": [
    "#  2. Vector Feature and Dimension Reduction\n",
    "\n",
    "You can use the methods learned in other colabs to obtain the characteristic vectors and reduce the dimension.\n",
    "\n",
    "For this stage, you should use PCA, t-SNE y  UMAP\n",
    "You can use the sklearn library for this purpose.\n",
    "\n",
    "For [PCA](https://scikit-learn.org/dev/modules/generated/sklearn.decomposition.PCA.html), determine the smallest value that retains most of the information, significantly greater than 90%. For [t-SNE](https://scikit-learn.org/1.5/modules/generated/sklearn.manifold.TSNE.html) and [UMAP](https://umap-learn.readthedocs.io/en/latest/), reduce the data to 3 and 2 dimensions, respectively\n"
   ]
  },
  {
   "cell_type": "code",
   "execution_count": null,
   "metadata": {
    "colab": {
     "base_uri": "https://localhost:8080/"
    },
    "collapsed": true,
    "id": "vvTTe3KMkYFN",
    "outputId": "0ce77d9d-3bdb-427d-961a-edf641e05058"
   },
   "outputs": [
    {
     "data": {
      "text/plain": [
       "'ImageData.mat'"
      ]
     },
     "execution_count": 4,
     "metadata": {},
     "output_type": "execute_result"
    }
   ],
   "source": [
    "import os\n",
    "# path = '/content/drive/Shared drives/ML-Proyecto-3/faces'\n",
    "path = 'faces'\n",
    "os.listdir(path)"
   ]
  },
  {
   "cell_type": "code",
   "execution_count": null,
   "metadata": {
    "id": "IHz3iEMGMw5S"
   },
   "outputs": [],
   "source": [
    "# Data Normalizing\n",
    "def normalizacion(data):\n",
    "  return data/np.linalg.norm(data)\n",
    " # write your code here"
   ]
  },
  {
   "cell_type": "code",
   "execution_count": null,
   "metadata": {},
   "outputs": [
    {
     "name": "stdout",
     "output_type": "stream",
     "text": [
      "Total dataset size:\n",
      "n_samples: 450\n",
      "n_features: 530432\n",
      "n_classes: 450\n",
      "(530432, 450)\n",
      "(450,)\n",
      "896\n",
      "592\n"
     ]
    }
   ],
   "source": [
    "import os\n",
    "import numpy as np\n",
    "import cv2  # for image processing\n",
    "from sklearn.preprocessing import LabelEncoder\n",
    "\n",
    "def load_jpg_data(folder_path):\n",
    "    \"\"\"Loads .jpg images from a folder, resizes them, flattens them, and assigns labels.\"\"\"\n",
    "    images = []\n",
    "    labels = []\n",
    "    label_names = sorted(os.listdir(folder_path))\n",
    "    m, n = 896, 592\n",
    "    \n",
    "    for label in label_names:\n",
    "        label_path = os.path.join(folder_path, label)\n",
    "        if label_path.endswith('.jpg'):\n",
    "            image = cv2.imread(label_path, cv2.IMREAD_GRAYSCALE)\n",
    "            image = cv2.resize(image, (n, m))\n",
    "            \n",
    "            images.append(image.flatten())\n",
    "            labels.append(label)\n",
    "\n",
    "    images = np.array(images).T\n",
    "    le = LabelEncoder()\n",
    "    y = le.fit_transform(labels)\n",
    "    print(\"Total dataset size:\")\n",
    "    print(f\"n_samples: {images.shape[1]}\")\n",
    "    print(f\"n_features: {m*n}\")\n",
    "    print(f\"n_classes: {len(np.unique(y))}\")\n",
    "    return images, y, m, n\n",
    "\n",
    "# Example usage:\n",
    "X, Y, m, n = load_jpg_data('faces')\n",
    "\n",
    "print(X.shape)\n",
    "print(Y.shape)\n",
    "print(m)\n",
    "print(n)"
   ]
  },
  {
   "cell_type": "markdown",
   "metadata": {
    "id": "zeoSLSLgNy8V"
   },
   "source": [
    "\n",
    "\n",
    "---\n",
    "# Metodo 2\n"
   ]
  },
  {
   "cell_type": "code",
   "execution_count": 30,
   "metadata": {},
   "outputs": [],
   "source": [
    "images=[]\n",
    "for filename in os.listdir(path):\n",
    "    img=cv2.imread(os.path.join(path,filename),cv2.IMREAD_GRAYSCALE)\n",
    "    if img is not None:\n",
    "        img_resided = cv2.resize(img, (896, 592))\n",
    "        images.append(img_resided.flatten())\n",
    "\n",
    "X = np.array(images)"
   ]
  },
  {
   "cell_type": "code",
   "execution_count": 31,
   "metadata": {
    "id": "ZUpP18skODko"
   },
   "outputs": [
    {
     "name": "stdout",
     "output_type": "stream",
     "text": [
      "(450, 530432)\n"
     ]
    }
   ],
   "source": [
    "print(X.shape)"
   ]
  },
  {
   "cell_type": "code",
   "execution_count": 32,
   "metadata": {},
   "outputs": [
    {
     "name": "stdout",
     "output_type": "stream",
     "text": [
      "X_pca:  (450, 159)\n"
     ]
    },
    {
     "data": {
      "image/png": "[encoded data removed]",
      "text/plain": [
       "<Figure size 640x480 with 1 Axes>"
      ]
     },
     "metadata": {},
     "output_type": "display_data"
    }
   ],
   "source": [
    "import matplotlib.pyplot as plt\n",
    "from sklearn.decomposition import PCA\n",
    "\n",
    "variance=0.9\n",
    "pca = PCA(n_components=variance)\n",
    "X_pca = pca.fit_transform(X)\n",
    "\n",
    "print(\"X_pca: \", X_pca.shape)\n",
    "plt.plot(np.cumsum(pca.explained_variance_ratio_), \"-o\")\n",
    "plt.title(\"Grafico de caracteristicas vs informacion\")\n",
    "plt.xlabel('number of components')\n",
    "plt.ylabel('cumulative explained variance')\n",
    "plt.show()"
   ]
  },
  {
   "cell_type": "markdown",
   "metadata": {
    "id": "NZHquA9vAWjI"
   },
   "source": [
    "# 3 Clustering and evaluation\n",
    "\n",
    "You used the Gaussian Mixture model from SKLEARN to cluster the dataset and compared it with other clustering algorithms, such as K-means and DBSCAN. To evaluate the quality of the clusters generated by each model, you employed internal metrics like the Silhouette Coefficient, the Davies-Bouldin Index, and the Dunn Index. These metrics allowed for an analysis of cluster compactness and separation, providing a detailed and comprehensive comparison between the models."
   ]
  },
  {
   "cell_type": "code",
   "execution_count": null,
   "metadata": {
    "id": "YDwRNRovAWCU"
   },
   "outputs": [],
   "source": [
    "# Write your code here"
   ]
  },
  {
   "cell_type": "markdown",
   "metadata": {
    "id": "JuYQFc1OBezx"
   },
   "source": [
    "# 4. Clustering visualization\n",
    "\n",
    "Project the elements of each cluster into a 2D space, then plot the points, assigning a unique color to each cluster to visualize the separation between them. Randomly select 10 images from each group and display them on the screen, allowing a visual check to determine if the images indeed belong to the same person."
   ]
  },
  {
   "cell_type": "code",
   "execution_count": null,
   "metadata": {
    "id": "jUl3lH9kUHgj"
   },
   "outputs": [],
   "source": [
    "#Write your code here"
   ]
  }
 ],
 "metadata": {
  "colab": {
   "provenance": []
  },
  "kernelspec": {
   "display_name": "Python 3",
   "name": "python3"
  },
  "language_info": {
   "codemirror_mode": {
    "name": "ipython",
    "version": 3
   },
   "file_extension": ".py",
   "mimetype": "text/x-python",
   "name": "python",
   "nbconvert_exporter": "python",
   "pygments_lexer": "ipython3",
   "version": "3.12.7"
  }
 },
 "nbformat": 4,
 "nbformat_minor": 0
}
